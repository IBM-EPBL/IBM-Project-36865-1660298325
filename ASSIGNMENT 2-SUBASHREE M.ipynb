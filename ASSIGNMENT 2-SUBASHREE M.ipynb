<html xmlns:v="urn:schemas-microsoft-com:vml" xmlns:o="urn:schemas-microsoft-com:office:office" xmlns:x="urn:schemas-microsoft-com:office:excel" xmlns="http://www.w3.org/TR/REC-html40">
 <head>
  <meta http-equiv="Content-Type" content="text/html; charset=utf-8">
  <meta name="ProgId" content="Excel.Sheet">
  <meta name="Generator" content="WPS Office ET">
  <!--[if gte mso 9]>
   <xml>
    <o:DocumentProperties>
     <o:Created>2022-10-13T13:09:39</o:Created>
     <o:LastAuthor>CS</o:LastAuthor>
     <o:LastSaved>2022-10-13T13:10:31</o:LastSaved>
    </o:DocumentProperties>
    <o:CustomDocumentProperties>
     <o:ICV dt:dt="string">4D07C324BB9149BCAEA8220630006CC3</o:ICV>
     <o:KSOProductBuildVer dt:dt="string">1033-11.2.0.11341</o:KSOProductBuildVer>
    </o:CustomDocumentProperties>
   </xml>
  <![endif]-->
  <style>
<!-- @page
	{margin:1.00in 0.75in 1.00in 0.75in;
	mso-header-margin:0.50in;
	mso-footer-margin:0.50in;}
tr
	{mso-height-source:auto;
	mso-ruby-visibility:none;}
col
	{mso-width-source:auto;
	mso-ruby-visibility:none;}
br
	{mso-data-placement:same-cell;}
.font0
	{color:#000000;
	font-size:11.0pt;
	font-weight:400;
	font-style:normal;
	text-decoration:none;
	font-family:"Calibri";
	mso-generic-font-family:auto;
	mso-font-charset:134;}
.font1
	{color:#000000;
	font-size:11.0pt;
	font-weight:700;
	font-style:normal;
	text-decoration:none;
	font-family:"Calibri";
	mso-generic-font-family:auto;
	mso-font-charset:134;}
.font2
	{color:#9C6500;
	font-size:11.0pt;
	font-weight:400;
	font-style:normal;
	text-decoration:none;
	font-family:"Calibri";
	mso-generic-font-family:auto;
	mso-font-charset:0;}
.font3
	{color:#000000;
	font-size:11.0pt;
	font-weight:400;
	font-style:normal;
	text-decoration:none;
	font-family:"Calibri";
	mso-generic-font-family:auto;
	mso-font-charset:0;}
.font4
	{color:#9C0006;
	font-size:11.0pt;
	font-weight:400;
	font-style:normal;
	text-decoration:none;
	font-family:"Calibri";
	mso-generic-font-family:auto;
	mso-font-charset:0;}
.font5
	{color:#000000;
	font-size:11.0pt;
	font-weight:700;
	font-style:normal;
	text-decoration:none;
	font-family:"Calibri";
	mso-generic-font-family:auto;
	mso-font-charset:0;}
.font6
	{color:#44546A;
	font-size:11.0pt;
	font-weight:700;
	font-style:normal;
	text-decoration:none;
	font-family:"Calibri";
	mso-generic-font-family:auto;
	mso-font-charset:134;}
.font7
	{color:#0000FF;
	font-size:11.0pt;
	font-weight:400;
	font-style:normal;
	text-decoration:underline;
	text-underline-style:single;
	font-family:"Calibri";
	mso-generic-font-family:auto;
	mso-font-charset:134;}
.font8
	{color:#FFFFFF;
	font-size:11.0pt;
	font-weight:400;
	font-style:normal;
	text-decoration:none;
	font-family:"Calibri";
	mso-generic-font-family:auto;
	mso-font-charset:0;}
.font9
	{color:#800080;
	font-size:11.0pt;
	font-weight:400;
	font-style:normal;
	text-decoration:underline;
	text-underline-style:single;
	font-family:"Calibri";
	mso-generic-font-family:auto;
	mso-font-charset:134;}
.font10
	{color:#FFFFFF;
	font-size:11.0pt;
	font-weight:700;
	font-style:normal;
	text-decoration:none;
	font-family:"Calibri";
	mso-generic-font-family:auto;
	mso-font-charset:0;}
.font11
	{color:#44546A;
	font-size:13.0pt;
	font-weight:700;
	font-style:normal;
	text-decoration:none;
	font-family:"Calibri";
	mso-generic-font-family:auto;
	mso-font-charset:134;}
.font12
	{color:#FF0000;
	font-size:11.0pt;
	font-weight:400;
	font-style:normal;
	text-decoration:none;
	font-family:"Calibri";
	mso-generic-font-family:auto;
	mso-font-charset:0;}
.font13
	{color:#44546A;
	font-size:18.0pt;
	font-weight:700;
	font-style:normal;
	text-decoration:none;
	font-family:"Calibri";
	mso-generic-font-family:auto;
	mso-font-charset:134;}
.font14
	{color:#7F7F7F;
	font-size:11.0pt;
	font-weight:400;
	font-style:italic;
	text-decoration:none;
	font-family:"Calibri";
	mso-generic-font-family:auto;
	mso-font-charset:0;}
.font15
	{color:#44546A;
	font-size:15.0pt;
	font-weight:700;
	font-style:normal;
	text-decoration:none;
	font-family:"Calibri";
	mso-generic-font-family:auto;
	mso-font-charset:134;}
.font16
	{color:#FA7D00;
	font-size:11.0pt;
	font-weight:400;
	font-style:normal;
	text-decoration:none;
	font-family:"Calibri";
	mso-generic-font-family:auto;
	mso-font-charset:0;}
.font17
	{color:#3F3F76;
	font-size:11.0pt;
	font-weight:400;
	font-style:normal;
	text-decoration:none;
	font-family:"Calibri";
	mso-generic-font-family:auto;
	mso-font-charset:0;}
.font18
	{color:#FA7D00;
	font-size:11.0pt;
	font-weight:700;
	font-style:normal;
	text-decoration:none;
	font-family:"Calibri";
	mso-generic-font-family:auto;
	mso-font-charset:0;}
.font19
	{color:#006100;
	font-size:11.0pt;
	font-weight:400;
	font-style:normal;
	text-decoration:none;
	font-family:"Calibri";
	mso-generic-font-family:auto;
	mso-font-charset:0;}
.font20
	{color:#3F3F3F;
	font-size:11.0pt;
	font-weight:700;
	font-style:normal;
	text-decoration:none;
	font-family:"Calibri";
	mso-generic-font-family:auto;
	mso-font-charset:0;}
.style0
	{mso-number-format:"General";
	text-align:general;
	vertical-align:middle;
	white-space:nowrap;
	mso-rotate:0;
	mso-pattern:auto;
	mso-background-source:auto;
	color:#000000;
	font-size:11.0pt;
	font-weight:400;
	font-style:normal;
	text-decoration:none;
	font-family:Calibri;
	mso-generic-font-family:auto;
	mso-font-charset:134;
	border:none;
	mso-protection:locked visible;
	mso-style-name:"Normal";
	mso-style-id:0;}
.style16
	{mso-pattern:auto none;
	background:#BDD7EE;
	color:#000000;
	font-size:11.0pt;
	font-weight:400;
	font-style:normal;
	text-decoration:none;
	font-family:Calibri;
	mso-generic-font-family:auto;
	mso-font-charset:0;
	mso-style-name:"40% - Accent1";}
.style17
	{mso-number-format:"_ * \#\,\#\#0\.00_ \;_ * \\-\#\,\#\#0\.00_ \;_ * \0022-\0022??_ \;_ \@_ ";
	mso-style-name:"Comma";
	mso-style-id:3;}
.style18
	{mso-number-format:"_ * \#\,\#\#0_ \;_ * \\-\#\,\#\#0_ \;_ * \0022-\0022_ \;_ \@_ ";
	mso-style-name:"Comma [0]";
	mso-style-id:6;}
.style19
	{mso-number-format:"_\(\\$* \#\,\#\#0_\)\;_\(\\$* \\\(\#\,\#\#0\\\)\;_\(\\$* \0022-\0022_\)\;_\(\@_\)";
	mso-style-name:"Currency [0]";
	mso-style-id:7;}
.style20
	{mso-number-format:"_\(\\$* \#\,\#\#0\.00_\)\;_\(\\$* \\\(\#\,\#\#0\.00\\\)\;_\(\\$* \0022-\0022??_\)\;_\(\@_\)";
	mso-style-name:"Currency";
	mso-style-id:4;}
.style21
	{mso-number-format:"0%";
	mso-style-name:"Percent";
	mso-style-id:5;}
.style22
	{color:#0000FF;
	font-size:11.0pt;
	text-decoration:underline;
	text-underline-style:single;
	font-family:Calibri;
	mso-style-name:"Hyperlink";
	mso-style-id:8;}
.style23
	{mso-pattern:auto none;
	background:#FFD966;
	color:#FFFFFF;
	font-size:11.0pt;
	font-weight:400;
	font-style:normal;
	text-decoration:none;
	font-family:Calibri;
	mso-generic-font-family:auto;
	mso-font-charset:0;
	mso-style-name:"60% - Accent4";}
.style24
	{color:#800080;
	font-size:11.0pt;
	text-decoration:underline;
	text-underline-style:single;
	font-family:Calibri;
	mso-style-name:"Followed Hyperlink";
	mso-style-id:9;}
.style25
	{mso-pattern:auto none;
	background:#A5A5A5;
	color:#FFFFFF;
	font-size:11.0pt;
	font-weight:700;
	font-style:normal;
	text-decoration:none;
	font-family:Calibri;
	mso-generic-font-family:auto;
	mso-font-charset:0;
	border:2.0pt double #3F3F3F;
	mso-style-name:"Check Cell";}
.style26
	{color:#44546A;
	font-size:13.0pt;
	font-weight:700;
	font-style:normal;
	text-decoration:none;
	font-family:Calibri;
	mso-generic-font-family:auto;
	mso-font-charset:134;
	border-bottom:1.0pt solid #5B9BD5;
	mso-style-name:"Heading 2";}
.style27
	{mso-pattern:auto none;
	background:#FFFFCC;
	border:.5pt solid #B2B2B2;
	mso-style-name:"Note";}
.style28
	{mso-pattern:auto none;
	background:#DBDBDB;
	color:#000000;
	font-size:11.0pt;
	font-weight:400;
	font-style:normal;
	text-decoration:none;
	font-family:Calibri;
	mso-generic-font-family:auto;
	mso-font-charset:0;
	mso-style-name:"40% - Accent3";}
.style29
	{color:#FF0000;
	font-size:11.0pt;
	font-weight:400;
	font-style:normal;
	text-decoration:none;
	font-family:Calibri;
	mso-generic-font-family:auto;
	mso-font-charset:0;
	mso-style-name:"Warning Text";}
.style30
	{mso-pattern:auto none;
	background:#F8CBAD;
	color:#000000;
	font-size:11.0pt;
	font-weight:400;
	font-style:normal;
	text-decoration:none;
	font-family:Calibri;
	mso-generic-font-family:auto;
	mso-font-charset:0;
	mso-style-name:"40% - Accent2";}
.style31
	{color:#44546A;
	font-size:18.0pt;
	font-weight:700;
	font-style:normal;
	text-decoration:none;
	font-family:Calibri;
	mso-generic-font-family:auto;
	mso-font-charset:134;
	mso-style-name:"Title";}
.style32
	{color:#7F7F7F;
	font-size:11.0pt;
	font-weight:400;
	font-style:italic;
	text-decoration:none;
	font-family:Calibri;
	mso-generic-font-family:auto;
	mso-font-charset:0;
	mso-style-name:"CExplanatory Text";}
.style33
	{color:#44546A;
	font-size:15.0pt;
	font-weight:700;
	font-style:normal;
	text-decoration:none;
	font-family:Calibri;
	mso-generic-font-family:auto;
	mso-font-charset:134;
	border-bottom:1.0pt solid #5B9BD5;
	mso-style-name:"Heading 1";}
.style34
	{color:#44546A;
	font-size:11.0pt;
	font-weight:700;
	font-style:normal;
	text-decoration:none;
	font-family:Calibri;
	mso-generic-font-family:auto;
	mso-font-charset:134;
	border-bottom:1.0pt solid #ACCCEA;
	mso-style-name:"Heading 3";}
.style35
	{color:#44546A;
	font-size:11.0pt;
	font-weight:700;
	font-style:normal;
	text-decoration:none;
	font-family:Calibri;
	mso-generic-font-family:auto;
	mso-font-charset:134;
	mso-style-name:"Heading 4";}
.style36
	{mso-pattern:auto none;
	background:#FFCC99;
	color:#3F3F76;
	font-size:11.0pt;
	font-weight:400;
	font-style:normal;
	text-decoration:none;
	font-family:Calibri;
	mso-generic-font-family:auto;
	mso-font-charset:0;
	border:.5pt solid #7F7F7F;
	mso-style-name:"Input";}
.style37
	{mso-pattern:auto none;
	background:#C9C9C9;
	color:#FFFFFF;
	font-size:11.0pt;
	font-weight:400;
	font-style:normal;
	text-decoration:none;
	font-family:Calibri;
	mso-generic-font-family:auto;
	mso-font-charset:0;
	mso-style-name:"60% - Accent3";}
.style38
	{mso-pattern:auto none;
	background:#C6EFCE;
	color:#006100;
	font-size:11.0pt;
	font-weight:400;
	font-style:normal;
	text-decoration:none;
	font-family:Calibri;
	mso-generic-font-family:auto;
	mso-font-charset:0;
	mso-style-name:"Good";}
.style39
	{mso-pattern:auto none;
	background:#F2F2F2;
	color:#3F3F3F;
	font-size:11.0pt;
	font-weight:700;
	font-style:normal;
	text-decoration:none;
	font-family:Calibri;
	mso-generic-font-family:auto;
	mso-font-charset:0;
	border:.5pt solid #3F3F3F;
	mso-style-name:"Output";}
.style40
	{mso-pattern:auto none;
	background:#DDEBF7;
	color:#000000;
	font-size:11.0pt;
	font-weight:400;
	font-style:normal;
	text-decoration:none;
	font-family:Calibri;
	mso-generic-font-family:auto;
	mso-font-charset:0;
	mso-style-name:"20% - Accent1";}
.style41
	{mso-pattern:auto none;
	background:#F2F2F2;
	color:#FA7D00;
	font-size:11.0pt;
	font-weight:700;
	font-style:normal;
	text-decoration:none;
	font-family:Calibri;
	mso-generic-font-family:auto;
	mso-font-charset:0;
	border:.5pt solid #7F7F7F;
	mso-style-name:"Calculation";}
.style42
	{color:#FA7D00;
	font-size:11.0pt;
	font-weight:400;
	font-style:normal;
	text-decoration:none;
	font-family:Calibri;
	mso-generic-font-family:auto;
	mso-font-charset:0;
	border-bottom:2.0pt double #FF8001;
	mso-style-name:"Linked Cell";}
.style43
	{color:#000000;
	font-size:11.0pt;
	font-weight:700;
	font-style:normal;
	text-decoration:none;
	font-family:Calibri;
	mso-generic-font-family:auto;
	mso-font-charset:0;
	border-top:.5pt solid #5B9BD5;
	border-bottom:2.0pt double #5B9BD5;
	mso-style-name:"Total";}
.style44
	{mso-pattern:auto none;
	background:#FFC7CE;
	color:#9C0006;
	font-size:11.0pt;
	font-weight:400;
	font-style:normal;
	text-decoration:none;
	font-family:Calibri;
	mso-generic-font-family:auto;
	mso-font-charset:0;
	mso-style-name:"Bad";}
.style45
	{mso-pattern:auto none;
	background:#FFEB9C;
	color:#9C6500;
	font-size:11.0pt;
	font-weight:400;
	font-style:normal;
	text-decoration:none;
	font-family:Calibri;
	mso-generic-font-family:auto;
	mso-font-charset:0;
	mso-style-name:"Neutral";}
.style46
	{mso-pattern:auto none;
	background:#5B9BD5;
	color:#FFFFFF;
	font-size:11.0pt;
	font-weight:400;
	font-style:normal;
	text-decoration:none;
	font-family:Calibri;
	mso-generic-font-family:auto;
	mso-font-charset:0;
	mso-style-name:"Accent1";}
.style47
	{mso-pattern:auto none;
	background:#D9E1F2;
	color:#000000;
	font-size:11.0pt;
	font-weight:400;
	font-style:normal;
	text-decoration:none;
	font-family:Calibri;
	mso-generic-font-family:auto;
	mso-font-charset:0;
	mso-style-name:"20% - Accent5";}
.style48
	{mso-pattern:auto none;
	background:#9BC2E6;
	color:#FFFFFF;
	font-size:11.0pt;
	font-weight:400;
	font-style:normal;
	text-decoration:none;
	font-family:Calibri;
	mso-generic-font-family:auto;
	mso-font-charset:0;
	mso-style-name:"60% - Accent1";}
.style49
	{mso-pattern:auto none;
	background:#ED7D31;
	color:#FFFFFF;
	font-size:11.0pt;
	font-weight:400;
	font-style:normal;
	text-decoration:none;
	font-family:Calibri;
	mso-generic-font-family:auto;
	mso-font-charset:0;
	mso-style-name:"Accent2";}
.style50
	{mso-pattern:auto none;
	background:#FCE4D6;
	color:#000000;
	font-size:11.0pt;
	font-weight:400;
	font-style:normal;
	text-decoration:none;
	font-family:Calibri;
	mso-generic-font-family:auto;
	mso-font-charset:0;
	mso-style-name:"20% - Accent2";}
.style51
	{mso-pattern:auto none;
	background:#E2EFDA;
	color:#000000;
	font-size:11.0pt;
	font-weight:400;
	font-style:normal;
	text-decoration:none;
	font-family:Calibri;
	mso-generic-font-family:auto;
	mso-font-charset:0;
	mso-style-name:"20% - Accent6";}
.style52
	{mso-pattern:auto none;
	background:#F4B084;
	color:#FFFFFF;
	font-size:11.0pt;
	font-weight:400;
	font-style:normal;
	text-decoration:none;
	font-family:Calibri;
	mso-generic-font-family:auto;
	mso-font-charset:0;
	mso-style-name:"60% - Accent2";}
.style53
	{mso-pattern:auto none;
	background:#A5A5A5;
	color:#FFFFFF;
	font-size:11.0pt;
	font-weight:400;
	font-style:normal;
	text-decoration:none;
	font-family:Calibri;
	mso-generic-font-family:auto;
	mso-font-charset:0;
	mso-style-name:"Accent3";}
.style54
	{mso-pattern:auto none;
	background:#EDEDED;
	color:#000000;
	font-size:11.0pt;
	font-weight:400;
	font-style:normal;
	text-decoration:none;
	font-family:Calibri;
	mso-generic-font-family:auto;
	mso-font-charset:0;
	mso-style-name:"20% - Accent3";}
.style55
	{mso-pattern:auto none;
	background:#FFC000;
	color:#FFFFFF;
	font-size:11.0pt;
	font-weight:400;
	font-style:normal;
	text-decoration:none;
	font-family:Calibri;
	mso-generic-font-family:auto;
	mso-font-charset:0;
	mso-style-name:"Accent4";}
.style56
	{mso-pattern:auto none;
	background:#FFF2CC;
	color:#000000;
	font-size:11.0pt;
	font-weight:400;
	font-style:normal;
	text-decoration:none;
	font-family:Calibri;
	mso-generic-font-family:auto;
	mso-font-charset:0;
	mso-style-name:"20% - Accent4";}
.style57
	{mso-pattern:auto none;
	background:#FFE699;
	color:#000000;
	font-size:11.0pt;
	font-weight:400;
	font-style:normal;
	text-decoration:none;
	font-family:Calibri;
	mso-generic-font-family:auto;
	mso-font-charset:0;
	mso-style-name:"40% - Accent4";}
.style58
	{mso-pattern:auto none;
	background:#4472C4;
	color:#FFFFFF;
	font-size:11.0pt;
	font-weight:400;
	font-style:normal;
	text-decoration:none;
	font-family:Calibri;
	mso-generic-font-family:auto;
	mso-font-charset:0;
	mso-style-name:"Accent5";}
.style59
	{mso-pattern:auto none;
	background:#B4C6E7;
	color:#000000;
	font-size:11.0pt;
	font-weight:400;
	font-style:normal;
	text-decoration:none;
	font-family:Calibri;
	mso-generic-font-family:auto;
	mso-font-charset:0;
	mso-style-name:"40% - Accent5";}
.style60
	{mso-pattern:auto none;
	background:#8EA9DB;
	color:#FFFFFF;
	font-size:11.0pt;
	font-weight:400;
	font-style:normal;
	text-decoration:none;
	font-family:Calibri;
	mso-generic-font-family:auto;
	mso-font-charset:0;
	mso-style-name:"60% - Accent5";}
.style61
	{mso-pattern:auto none;
	background:#70AD47;
	color:#FFFFFF;
	font-size:11.0pt;
	font-weight:400;
	font-style:normal;
	text-decoration:none;
	font-family:Calibri;
	mso-generic-font-family:auto;
	mso-font-charset:0;
	mso-style-name:"Accent6";}
.style62
	{mso-pattern:auto none;
	background:#C6E0B4;
	color:#000000;
	font-size:11.0pt;
	font-weight:400;
	font-style:normal;
	text-decoration:none;
	font-family:Calibri;
	mso-generic-font-family:auto;
	mso-font-charset:0;
	mso-style-name:"40% - Accent6";}
.style63
	{mso-pattern:auto none;
	background:#A9D08E;
	color:#FFFFFF;
	font-size:11.0pt;
	font-weight:400;
	font-style:normal;
	text-decoration:none;
	font-family:Calibri;
	mso-generic-font-family:auto;
	mso-font-charset:0;
	mso-style-name:"60% - Accent6";}
td
	{mso-style-parent:style0;
	padding-top:1px;
	padding-right:1px;
	padding-left:1px;
	mso-ignore:padding;
	mso-number-format:"General";
	text-align:general;
	vertical-align:middle;
	white-space:nowrap;
	mso-rotate:0;
	mso-pattern:auto;
	mso-background-source:auto;
	color:#000000;
	font-size:11.0pt;
	font-weight:400;
	font-style:normal;
	text-decoration:none;
	font-family:Calibri;
	mso-generic-font-family:auto;
	mso-font-charset:134;
	border:none;
	mso-protection:locked visible;}
.xl65
	{mso-style-parent:style0;
	white-space:normal;
	mso-font-charset:134;}
.xl66
	{mso-style-parent:style0;
	text-align:center;
	white-space:normal;
	font-weight:700;
	mso-font-charset:134;
	border:.5pt solid windowtext;}
.xl67
	{mso-style-parent:style0;
	white-space:normal;
	mso-font-charset:134;
	border:.5pt solid windowtext;}
.xl68
	{mso-style-parent:style0;
	mso-number-format:"0\.00E+00";
	white-space:normal;
	mso-font-charset:134;
	border:.5pt solid windowtext;}
.xl69
	{mso-style-parent:style0;
	mso-number-format:"0%";
	text-align:center;
	white-space:normal;
	font-weight:700;
	mso-font-charset:134;
	border:.5pt solid windowtext;}
 -->  </style>
  <!--[if gte mso 9]>
   <xml>
    <x:ExcelWorkbook>
     <x:ExcelWorksheets>
      <x:ExcelWorksheet>
       <x:Name>ASSIGNMENT 2 Team member1</x:Name>
       <x:WorksheetOptions>
        <x:DefaultRowHeight>300</x:DefaultRowHeight>
        <x:StandardWidth>2340</x:StandardWidth>
        <x:Selected/>
        <x:TopRowVisible>97</x:TopRowVisible>
        <x:Panes>
         <x:Pane>
          <x:Number>3</x:Number>
          <x:ActiveCol>0</x:ActiveCol>
          <x:ActiveRow>0</x:ActiveRow>
          <x:RangeSelection>A1:O1</x:RangeSelection>
         </x:Pane>
        </x:Panes>
        <x:DoNotDisplayGridlines/>
        <x:ProtectContents>False</x:ProtectContents>
        <x:ProtectObjects>False</x:ProtectObjects>
        <x:ProtectScenarios>False</x:ProtectScenarios>
        <x:Print>
         <x:PaperSizeIndex>9</x:PaperSizeIndex>
        </x:Print>
       </x:WorksheetOptions>
      </x:ExcelWorksheet>
     </x:ExcelWorksheets>
     <x:ProtectStructure>False</x:ProtectStructure>
     <x:ProtectWindows>False</x:ProtectWindows>
     <x:WindowHeight>7815</x:WindowHeight>
     <x:WindowWidth>20490</x:WindowWidth>
    </x:ExcelWorkbook>
   </xml>
  <![endif]-->
 </head>
 <body link="blue" vlink="purple">
  <table width="1394" border="0" cellpadding="0" cellspacing="0" style='width:1045.50pt;border-collapse:collapse;table-layout:fixed;'>
   <col width="46" style='mso-width-source:userset;mso-width-alt:1682;'/>
   <col width="90" style='mso-width-source:userset;mso-width-alt:3291;'/>
   <col width="83" span="3" style='mso-width-source:userset;mso-width-alt:3035;'/>
   <col width="79" style='mso-width-source:userset;mso-width-alt:2889;'/>
   <col width="113" span="2" style='mso-width-source:userset;mso-width-alt:4132;'/>
   <col width="118" span="2" style='mso-width-source:userset;mso-width-alt:4315;'/>
   <col width="113" style='mso-width-source:userset;mso-width-alt:4132;'/>
   <col width="74" style='mso-width-source:userset;mso-width-alt:2706;'/>
   <col width="118" style='mso-width-source:userset;mso-width-alt:4315;'/>
   <col width="113" style='mso-width-source:userset;mso-width-alt:4132;'/>
   <col width="50" style='mso-width-source:userset;mso-width-alt:1828;'/>
   <tr height="140" style='height:105.00pt;mso-height-source:userset;mso-height-alt:2100;'>
    <td class="xl65" height="140" width="1394" colspan="15" style='height:105.00pt;width:1045.50pt;border-right:none;border-bottom:none;' x:str>{ &quot;cells&quot;: [ { &quot;cell_type&quot;: &quot;code&quot;, &quot;execution_count&quot;: 1, &quot;id&quot;: &quot;8533cb4f&quot;, &quot;metadata&quot;: {}, &quot;outputs&quot;: [ { &quot;name&quot;: &quot;stdout&quot;, &quot;output_type&quot;: &quot;stream&quot;, &quot;text&quot;: [ &quot;Requirement already satisfied: pandas in f:\\anaconda ml\\lib\\site-packages (1.2.4)\n&quot;, &quot;Requirement already satisfied: numpy&gt;=1.16.5 in f:\\anaconda ml\\lib\\site-packages (from pandas) (1.20.1)\n&quot;, &quot;Requirement already satisfied: pytz&gt;=2017.3 in f:\\anaconda ml\\lib\\site-packages (from pandas) (2021.1)\n&quot;, &quot;Requirement already satisfied: python-dateutil&gt;=2.7.3 in f:\\anaconda ml\\lib\\site-packages (from pandas) (2.8.1)\n&quot;, &quot;Requirement already satisfied: six&gt;=1.5 in f:\\anaconda ml\\lib\\site-packages (from python-dateutil&gt;=2.7.3-&gt;pandas) (1.15.0)\n&quot; ] } ], &quot;source&quot;: [ &quot;!pip install pandas&quot; ] }, { &quot;cell_type&quot;: &quot;code&quot;, &quot;execution_count&quot;: 2, &quot;id&quot;: &quot;49f9268b&quot;, &quot;metadata&quot;: {}, &quot;outputs&quot;: [ { &quot;name&quot;: &quot;stdout&quot;, &quot;output_type&quot;: &quot;stream&quot;, &quot;text&quot;: [ &quot;Requirement already satisfied: numpy in f:\\anaconda ml\\lib\\site-packages (1.20.1)\n&quot; ] } ], &quot;source&quot;: [ &quot;!pip install numpy&quot; ] }, { &quot;cell_type&quot;: &quot;code&quot;, &quot;execution_count&quot;: 3, &quot;id&quot;: &quot;c0aa6313&quot;, &quot;metadata&quot;: {}, &quot;outputs&quot;: [], &quot;source&quot;: [ &quot;import pandas as pd\n&quot;, &quot;import numpy as np&quot; ] }, { &quot;cell_type&quot;: &quot;code&quot;, &quot;execution_count&quot;: 4, &quot;id&quot;: &quot;356e62e7&quot;, &quot;metadata&quot;: {}, &quot;outputs&quot;: [], &quot;source&quot;: [ &quot;churn=pd.read_csv(\&quot;Churn_Modelling.csv\&quot;)&quot; ] }, { &quot;cell_type&quot;: &quot;code&quot;, &quot;execution_count&quot;: 5, &quot;id&quot;: &quot;6b600eef&quot;, &quot;metadata&quot;: {}, &quot;outputs&quot;: [ { &quot;data&quot;: { &quot;text/html&quot;: [ &quot;</td>
   </tr>
   <tr height="20" style='height:15.00pt;'>
    <td height="20" colspan="2" style='height:15.00pt;mso-ignore:colspan;' x:str>\n&quot;, &quot;\n&quot;, &quot;</td>
    <td colspan="13" style='mso-ignore:colspan;'></td>
   </tr>
   <tr height="20" style='height:15.00pt;mso-height-source:userset;mso-height-alt:300;'>
    <td height="20" colspan="15" style='height:15.00pt;' x:str>\n&quot;, &quot; \n&quot;, &quot;</td>
   </tr>
   <tr height="20" style='height:15.00pt;mso-height-source:userset;mso-height-alt:300;'>
    <td height="20" colspan="15" style='height:15.00pt;' x:str>\n&quot;, &quot; \n&quot;, &quot; \n&quot;, &quot;</td>
   </tr>
   <tr height="20" style='height:15.00pt;mso-height-source:userset;mso-height-alt:300;'>
    <td height="20" colspan="15" style='height:15.00pt;' x:str>\n&quot;, &quot;</td>
   </tr>
   <tr height="20" style='height:15.00pt;mso-height-source:userset;mso-height-alt:300;'>
    <td height="20" colspan="15" style='height:15.00pt;' x:str>\n&quot;, &quot;</td>
   </tr>
   <tr height="20" style='height:15.00pt;mso-height-source:userset;mso-height-alt:300;'>
    <td height="20" colspan="15" style='height:15.00pt;' x:str>\n&quot;, &quot;</td>
   </tr>
   <tr height="20" style='height:15.00pt;mso-height-source:userset;mso-height-alt:300;'>
    <td height="20" colspan="15" style='height:15.00pt;' x:str>\n&quot;, &quot;</td>
   </tr>
   <tr height="20" style='height:15.00pt;mso-height-source:userset;mso-height-alt:300;'>
    <td height="20" colspan="15" style='height:15.00pt;' x:str>\n&quot;, &quot;</td>
   </tr>
   <tr height="20" style='height:15.00pt;mso-height-source:userset;mso-height-alt:300;'>
    <td height="20" colspan="15" style='height:15.00pt;' x:str>\n&quot;, &quot;</td>
   </tr>
   <tr height="20" style='height:15.00pt;mso-height-source:userset;mso-height-alt:300;'>
    <td height="20" colspan="15" style='height:15.00pt;' x:str>\n&quot;, &quot;</td>
   </tr>
   <tr height="20" style='height:15.00pt;mso-height-source:userset;mso-height-alt:300;'>
    <td height="20" colspan="15" style='height:15.00pt;' x:str>\n&quot;, &quot;</td>
   </tr>
   <tr height="20" style='height:15.00pt;mso-height-source:userset;mso-height-alt:300;'>
    <td height="20" colspan="15" style='height:15.00pt;' x:str>\n&quot;, &quot;</td>
   </tr>
   <tr height="20" style='height:15.00pt;mso-height-source:userset;mso-height-alt:300;'>
    <td height="20" colspan="15" style='height:15.00pt;' x:str>\n&quot;, &quot; \n&quot;, &quot;</td>
   </tr>
   <tr height="20" style='height:15.00pt;'>
    <td class="xl66" height="20" style='height:15.00pt;'></td>
    <td class="xl66" x:str>RowNumber</td>
    <td class="xl66" x:str>CustomerId</td>
    <td class="xl66" x:str>Surname</td>
    <td class="xl66" x:str>CreditScore</td>
    <td class="xl66" x:str>Geography</td>
    <td class="xl66" x:str>Gender</td>
    <td class="xl66" x:str>Age</td>
    <td class="xl66" x:str>Tenure</td>
    <td class="xl66" x:str>Balance</td>
    <td class="xl66" x:str>NumOfProducts</td>
    <td class="xl66" x:str>HasCrCard</td>
    <td class="xl66" x:str>IsActiveMember</td>
    <td class="xl66" x:str>EstimatedSalary</td>
    <td class="xl66" x:str>Exited</td>
   </tr>
   <tr height="20" style='height:15.00pt;'>
    <td class="xl66" height="20" style='height:15.00pt;' x:num>0</td>
    <td class="xl67" align="right" x:num>1</td>
    <td class="xl67" align="right" x:num>15634602</td>
    <td class="xl67" x:str>Hargrave</td>
    <td class="xl67" align="right" x:num>619</td>
    <td class="xl67" x:str>France</td>
    <td class="xl67" x:str>Female</td>
    <td class="xl67" align="right" x:num>42</td>
    <td class="xl67" align="right" x:num>2</td>
    <td class="xl67" align="right" x:num>0</td>
    <td class="xl67" align="right" x:num>1</td>
    <td class="xl67" align="right" x:num>1</td>
    <td class="xl67" align="right" x:num>1</td>
    <td class="xl67" align="right" x:num>101348.88</td>
    <td class="xl67" align="right" x:num>1</td>
   </tr>
   <tr height="20" style='height:15.00pt;'>
    <td class="xl66" height="20" style='height:15.00pt;' x:num>1</td>
    <td class="xl67" align="right" x:num>2</td>
    <td class="xl67" align="right" x:num>15647311</td>
    <td class="xl67" x:str>Hill</td>
    <td class="xl67" align="right" x:num>608</td>
    <td class="xl67" x:str>Spain</td>
    <td class="xl67" x:str>Female</td>
    <td class="xl67" align="right" x:num>41</td>
    <td class="xl67" align="right" x:num>1</td>
    <td class="xl67" align="right" x:num>83807.86</td>
    <td class="xl67" align="right" x:num>1</td>
    <td class="xl67" align="right" x:num>0</td>
    <td class="xl67" align="right" x:num>1</td>
    <td class="xl67" align="right" x:num>112542.58</td>
    <td class="xl67" align="right" x:num>0</td>
   </tr>
   <tr height="20" style='height:15.00pt;'>
    <td class="xl66" height="20" style='height:15.00pt;' x:num>2</td>
    <td class="xl67" align="right" x:num>3</td>
    <td class="xl67" align="right" x:num>15619304</td>
    <td class="xl67" x:str>Onio</td>
    <td class="xl67" align="right" x:num>502</td>
    <td class="xl67" x:str>France</td>
    <td class="xl67" x:str>Female</td>
    <td class="xl67" align="right" x:num>42</td>
    <td class="xl67" align="right" x:num>8</td>
    <td class="xl67" align="right" x:num>159660.8</td>
    <td class="xl67" align="right" x:num>3</td>
    <td class="xl67" align="right" x:num>1</td>
    <td class="xl67" align="right" x:num>0</td>
    <td class="xl67" align="right" x:num>113931.57</td>
    <td class="xl67" align="right" x:num>1</td>
   </tr>
   <tr height="20" style='height:15.00pt;'>
    <td class="xl66" height="20" style='height:15.00pt;' x:num>3</td>
    <td class="xl67" align="right" x:num>4</td>
    <td class="xl67" align="right" x:num>15701354</td>
    <td class="xl67" x:str>Boni</td>
    <td class="xl67" align="right" x:num>699</td>
    <td class="xl67" x:str>France</td>
    <td class="xl67" x:str>Female</td>
    <td class="xl67" align="right" x:num>39</td>
    <td class="xl67" align="right" x:num>1</td>
    <td class="xl67" align="right" x:num>0</td>
    <td class="xl67" align="right" x:num>2</td>
    <td class="xl67" align="right" x:num>0</td>
    <td class="xl67" align="right" x:num>0</td>
    <td class="xl67" align="right" x:num>93826.63</td>
    <td class="xl67" align="right" x:num>0</td>
   </tr>
   <tr height="20" style='height:15.00pt;'>
    <td class="xl66" height="20" style='height:15.00pt;' x:num>4</td>
    <td class="xl67" align="right" x:num>5</td>
    <td class="xl67" align="right" x:num>15737888</td>
    <td class="xl67" x:str>Mitchell</td>
    <td class="xl67" align="right" x:num>850</td>
    <td class="xl67" x:str>Spain</td>
    <td class="xl67" x:str>Female</td>
    <td class="xl67" align="right" x:num>43</td>
    <td class="xl67" align="right" x:num>2</td>
    <td class="xl67" align="right" x:num>125510.82</td>
    <td class="xl67" align="right" x:num>1</td>
    <td class="xl67" align="right" x:num>1</td>
    <td class="xl67" align="right" x:num>1</td>
    <td class="xl67" align="right" x:num>79084.1</td>
    <td class="xl67" align="right" x:num>0</td>
   </tr>
   <tr height="20" style='height:15.00pt;'>
    <td class="xl66" height="20" style='height:15.00pt;' x:num>5</td>
    <td class="xl67" align="right" x:num>6</td>
    <td class="xl67" align="right" x:num>15574012</td>
    <td class="xl67" x:str>Chu</td>
    <td class="xl67" align="right" x:num>645</td>
    <td class="xl67" x:str>Spain</td>
    <td class="xl67" x:str>Male</td>
    <td class="xl67" align="right" x:num>44</td>
    <td class="xl67" align="right" x:num>8</td>
    <td class="xl67" align="right" x:num>113755.78</td>
    <td class="xl67" align="right" x:num>2</td>
    <td class="xl67" align="right" x:num>1</td>
    <td class="xl67" align="right" x:num>0</td>
    <td class="xl67" align="right" x:num>149756.71</td>
    <td class="xl67" align="right" x:num>1</td>
   </tr>
   <tr height="20" style='height:15.00pt;'>
    <td class="xl66" height="20" style='height:15.00pt;' x:num>6</td>
    <td class="xl67" align="right" x:num>7</td>
    <td class="xl67" align="right" x:num>15592531</td>
    <td class="xl67" x:str>Bartlett</td>
    <td class="xl67" align="right" x:num>822</td>
    <td class="xl67" x:str>France</td>
    <td class="xl67" x:str>Male</td>
    <td class="xl67" align="right" x:num>50</td>
    <td class="xl67" align="right" x:num>7</td>
    <td class="xl67" align="right" x:num>0</td>
    <td class="xl67" align="right" x:num>2</td>
    <td class="xl67" align="right" x:num>1</td>
    <td class="xl67" align="right" x:num>1</td>
    <td class="xl67" align="right" x:num>10062.8</td>
    <td class="xl67" align="right" x:num>0</td>
   </tr>
   <tr height="20" style='height:15.00pt;'>
    <td class="xl66" height="20" style='height:15.00pt;' x:num>7</td>
    <td class="xl67" align="right" x:num>8</td>
    <td class="xl67" align="right" x:num>15656148</td>
    <td class="xl67" x:str>Obinna</td>
    <td class="xl67" align="right" x:num>376</td>
    <td class="xl67" x:str>Germany</td>
    <td class="xl67" x:str>Female</td>
    <td class="xl67" align="right" x:num>29</td>
    <td class="xl67" align="right" x:num>4</td>
    <td class="xl67" align="right" x:num>115046.74</td>
    <td class="xl67" align="right" x:num>4</td>
    <td class="xl67" align="right" x:num>1</td>
    <td class="xl67" align="right" x:num>0</td>
    <td class="xl67" align="right" x:num>119346.88</td>
    <td class="xl67" align="right" x:num>1</td>
   </tr>
   <tr height="20" style='height:15.00pt;'>
    <td class="xl66" height="20" style='height:15.00pt;' x:num>8</td>
    <td class="xl67" align="right" x:num>9</td>
    <td class="xl67" align="right" x:num>15792365</td>
    <td class="xl67" x:str>He</td>
    <td class="xl67" align="right" x:num>501</td>
    <td class="xl67" x:str>France</td>
    <td class="xl67" x:str>Male</td>
    <td class="xl67" align="right" x:num>44</td>
    <td class="xl67" align="right" x:num>4</td>
    <td class="xl67" align="right" x:num>142051.07</td>
    <td class="xl67" align="right" x:num>2</td>
    <td class="xl67" align="right" x:num>0</td>
    <td class="xl67" align="right" x:num>1</td>
    <td class="xl67" align="right" x:num>74940.5</td>
    <td class="xl67" align="right" x:num>0</td>
   </tr>
   <tr height="20" style='height:15.00pt;'>
    <td class="xl66" height="20" style='height:15.00pt;' x:num>9</td>
    <td class="xl67" align="right" x:num>10</td>
    <td class="xl67" align="right" x:num>15592389</td>
    <td class="xl67" x:str>H?</td>
    <td class="xl67" align="right" x:num>684</td>
    <td class="xl67" x:str>France</td>
    <td class="xl67" x:str>Male</td>
    <td class="xl67" align="right" x:num>27</td>
    <td class="xl67" align="right" x:num>2</td>
    <td class="xl67" align="right" x:num>134603.88</td>
    <td class="xl67" align="right" x:num>1</td>
    <td class="xl67" align="right" x:num>1</td>
    <td class="xl67" align="right" x:num>1</td>
    <td class="xl67" align="right" x:num>71725.73</td>
    <td class="xl67" align="right" x:num>0</td>
   </tr>
   <tr height="20" style='height:15.00pt;'>
    <td height="20" style='height:15.00pt;' x:str>\n&quot;, &quot;</td>
    <td colspan="14" style='mso-ignore:colspan;'></td>
   </tr>
   <tr height="546" style='height:409.50pt;mso-height-source:userset;mso-height-alt:8190;'>
    <td class="xl65" height="546" colspan="15" style='height:409.50pt;border-right:none;border-bottom:none;' x:str>&quot; ], &quot;text/plain&quot;: [ &quot; RowNumber CustomerId Surname CreditScore Geography Gender Age \\\n&quot;, &quot;0 1 15634602 Hargrave 619 France Female 42 \n&quot;, &quot;1 2 15647311 Hill 608 Spain Female 41 \n&quot;, &quot;2 3 15619304 Onio 502 France Female 42 \n&quot;, &quot;3 4 15701354 Boni 699 France Female 39 \n&quot;, &quot;4 5 15737888 Mitchell 850 Spain Female 43 \n&quot;, &quot;5 6 15574012 Chu 645 Spain Male 44 \n&quot;, &quot;6 7 15592531 Bartlett 822 France Male 50 \n&quot;, &quot;7 8 15656148 Obinna 376 Germany Female 29 \n&quot;, &quot;8 9 15792365 He 501 France Male 44 \n&quot;, &quot;9 10 15592389 H? 684 France Male 27 \n&quot;, &quot;\n&quot;, &quot; Tenure Balance NumOfProducts HasCrCard IsActiveMember \\\n&quot;, &quot;0 2 0.00 1 1 1 \n&quot;, &quot;1 1 83807.86 1 0 1 \n&quot;, &quot;2 8 159660.80 3 1 0 \n&quot;, &quot;3 1 0.00 2 0 0 \n&quot;, &quot;4 2 125510.82 1 1 1 \n&quot;, &quot;5 8 113755.78 2 1 0 \n&quot;, &quot;6 7 0.00 2 1 1 \n&quot;, &quot;7 4 115046.74 4 1 0 \n&quot;, &quot;8 4 142051.07 2 0 1 \n&quot;, &quot;9 2 134603.88 1 1 1 \n&quot;, &quot;\n&quot;, &quot; EstimatedSalary Exited \n&quot;, &quot;0 101348.88 1 \n&quot;, &quot;1 112542.58 0 \n&quot;, &quot;2 113931.57 1 \n&quot;, &quot;3 93826.63 0 \n&quot;, &quot;4 79084.10 0 \n&quot;, &quot;5 149756.71 1 \n&quot;, &quot;6 10062.80 0 \n&quot;, &quot;7 119346.88 1 \n&quot;, &quot;8 74940.50 0 \n&quot;, &quot;9 71725.73 0 &quot; ] }, &quot;execution_count&quot;: 5, &quot;metadata&quot;: {}, &quot;output_type&quot;: &quot;execute_result&quot; } ], &quot;source&quot;: [ &quot;churn.head(10)&quot; ] }, { &quot;cell_type&quot;: &quot;code&quot;, &quot;execution_count&quot;: 6, &quot;id&quot;: &quot;0e4342f3&quot;, &quot;metadata&quot;: {}, &quot;outputs&quot;: [], &quot;source&quot;: [ &quot;import seaborn as sns\n&quot;, &quot;import matplotlib.pyplot as plt&quot; ] }, { &quot;cell_type&quot;: &quot;markdown&quot;, &quot;id&quot;: &quot;5a973d99&quot;, &quot;metadata&quot;: {}, &quot;source&quot;: [ &quot;# Data Visualization&quot; ] }, { &quot;cell_type&quot;: &quot;markdown&quot;, &quot;id&quot;: &quot;609d957a&quot;, &quot;metadata&quot;: {}, &quot;source&quot;: [ &quot;## univariate Analysis&quot; ] }, { &quot;cell_type&quot;: &quot;code&quot;, &quot;execution_count&quot;: 7, &quot;id&quot;: &quot;909a73b9&quot;, &quot;metadata&quot;: {}, &quot;outputs&quot;: [ { &quot;data&quot;: { &quot;text/plain&quot;: [ &quot;&quot; ] }, &quot;execution_count&quot;: 7, &quot;metadata&quot;: {}, &quot;output_type&quot;: &quot;execute_result&quot; }, { &quot;data&quot;: { &quot;image/png&quot;: &quot;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\n&quot;, &quot;text/plain&quot;: [ &quot;&quot; ] }, &quot;metadata&quot;: { &quot;needs_background&quot;: &quot;light&quot; }, &quot;output_type&quot;: &quot;display_data&quot; } ], &quot;source&quot;: [ &quot;sns.countplot(y=\&quot;Gender\&quot;,data=churn)&quot; ] }, { &quot;cell_type&quot;: &quot;code&quot;, &quot;execution_count&quot;: 8, &quot;id&quot;: &quot;b6867144&quot;, &quot;metadata&quot;: {}, &quot;outputs&quot;: [ { &quot;data&quot;: { &quot;text/plain&quot;: [ &quot;&quot; ] }, &quot;execution_count&quot;: 8, &quot;metadata&quot;: {}, &quot;output_type&quot;: &quot;execute_result&quot; }, { &quot;data&quot;: { &quot;image/png&quot;: &quot;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\n&quot;, &quot;text/plain&quot;: [ &quot;&quot; ] }, &quot;metadata&quot;: { &quot;needs_background&quot;: &quot;light&quot; }, &quot;output_type&quot;: &quot;display_data&quot; } ], &quot;source&quot;: [ &quot;sns.countplot(x=\&quot;Geography\&quot;,data=churn)&quot; ] }, { &quot;cell_type&quot;: &quot;markdown&quot;, &quot;id&quot;: &quot;6d883124&quot;, &quot;metadata&quot;: {}, &quot;source&quot;: [ &quot;## Bivariate Analysis&quot; ] }, { &quot;cell_type&quot;: &quot;code&quot;, &quot;execution_count&quot;: 9, &quot;id&quot;: &quot;2e466ad5&quot;, &quot;metadata&quot;: {}, &quot;outputs&quot;: [], &quot;source&quot;: [ &quot;churng=churn.groupby(by='IsActiveMember').agg('mean')[['Age','Balance','EstimatedSalary','CreditScore']]&quot; ] }, { &quot;cell_type&quot;: &quot;code&quot;, &quot;execution_count&quot;: 10, &quot;id&quot;: &quot;0c2cdf15&quot;, &quot;metadata&quot;: {}, &quot;outputs&quot;: [ { &quot;data&quot;: { &quot;text/plain&quot;: [ &quot;&quot; ] }, &quot;execution_count&quot;: 10, &quot;metadata&quot;: {}, &quot;output_type&quot;: &quot;execute_result&quot; }, { &quot;data&quot;: { &quot;image/png&quot;: &quot;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</td>
   </tr>
   <tr height="20" style='height:15.00pt;'>
    <td height="20" colspan="2" style='height:15.00pt;mso-ignore:colspan;' x:str>\n&quot;, &quot;\n&quot;, &quot;</td>
    <td colspan="13" style='mso-ignore:colspan;'></td>
   </tr>
   <tr height="20" style='height:15.00pt;mso-height-source:userset;mso-height-alt:300;'>
    <td height="20" colspan="12" style='height:15.00pt;' x:str>\n&quot;, &quot; \n&quot;, &quot;</td>
    <td colspan="3" style='mso-ignore:colspan;'></td>
   </tr>
   <tr height="20" style='height:15.00pt;mso-height-source:userset;mso-height-alt:300;'>
    <td height="20" colspan="12" style='height:15.00pt;' x:str>\n&quot;, &quot; \n&quot;, &quot; \n&quot;, &quot;</td>
    <td colspan="3" style='mso-ignore:colspan;'></td>
   </tr>
   <tr height="20" style='height:15.00pt;mso-height-source:userset;mso-height-alt:300;'>
    <td height="20" colspan="12" style='height:15.00pt;' x:str>\n&quot;, &quot;</td>
    <td colspan="3" style='mso-ignore:colspan;'></td>
   </tr>
   <tr height="20" style='height:15.00pt;mso-height-source:userset;mso-height-alt:300;'>
    <td height="20" colspan="12" style='height:15.00pt;' x:str>\n&quot;, &quot;</td>
    <td colspan="3" style='mso-ignore:colspan;'></td>
   </tr>
   <tr height="20" style='height:15.00pt;mso-height-source:userset;mso-height-alt:300;'>
    <td height="20" colspan="12" style='height:15.00pt;' x:str>\n&quot;, &quot;</td>
    <td colspan="3" style='mso-ignore:colspan;'></td>
   </tr>
   <tr height="20" style='height:15.00pt;mso-height-source:userset;mso-height-alt:300;'>
    <td height="20" colspan="12" style='height:15.00pt;' x:str>\n&quot;, &quot;</td>
    <td colspan="3" style='mso-ignore:colspan;'></td>
   </tr>
   <tr height="20" style='height:15.00pt;mso-height-source:userset;mso-height-alt:300;'>
    <td height="20" colspan="12" style='height:15.00pt;' x:str>\n&quot;, &quot;</td>
    <td colspan="3" style='mso-ignore:colspan;'></td>
   </tr>
   <tr height="20" style='height:15.00pt;mso-height-source:userset;mso-height-alt:300;'>
    <td height="20" colspan="12" style='height:15.00pt;' x:str>\n&quot;, &quot;</td>
    <td colspan="3" style='mso-ignore:colspan;'></td>
   </tr>
   <tr height="20" style='height:15.00pt;mso-height-source:userset;mso-height-alt:300;'>
    <td height="20" colspan="12" style='height:15.00pt;' x:str>\n&quot;, &quot;</td>
    <td colspan="3" style='mso-ignore:colspan;'></td>
   </tr>
   <tr height="20" style='height:15.00pt;mso-height-source:userset;mso-height-alt:300;'>
    <td height="20" colspan="12" style='height:15.00pt;' x:str>\n&quot;, &quot; \n&quot;, &quot;</td>
    <td colspan="3" style='mso-ignore:colspan;'></td>
   </tr>
   <tr height="20" style='height:15.00pt;'>
    <td class="xl66" height="20" style='height:15.00pt;'></td>
    <td class="xl66" x:str>RowNumber</td>
    <td class="xl66" x:str>CustomerId</td>
    <td class="xl66" x:str>CreditScore</td>
    <td class="xl66" x:str>Age</td>
    <td class="xl66" x:str>Tenure</td>
    <td class="xl66" x:str>Balance</td>
    <td class="xl66" x:str>NumOfProducts</td>
    <td class="xl66" x:str>HasCrCard</td>
    <td class="xl66" x:str>IsActiveMember</td>
    <td class="xl66" x:str>EstimatedSalary</td>
    <td class="xl66" x:str>Exited</td>
    <td colspan="3" style='mso-ignore:colspan;'></td>
   </tr>
   <tr height="20" style='height:15.00pt;'>
    <td class="xl66" height="20" style='height:15.00pt;' x:str>count</td>
    <td class="xl67" align="right" x:num>10000</td>
    <td class="xl68" align="right" x:num="10000.">1.00E+04</td>
    <td class="xl67" align="right" x:num>10000</td>
    <td class="xl67" align="right" x:num>10000</td>
    <td class="xl67" align="right" x:num>10000</td>
    <td class="xl67" align="right" x:num>10000</td>
    <td class="xl67" align="right" x:num>10000</td>
    <td class="xl67" align="right" x:num>10000</td>
    <td class="xl67" align="right" x:num>10000</td>
    <td class="xl67" align="right" x:num>10000</td>
    <td class="xl67" align="right" x:num>10000</td>
    <td colspan="3" style='mso-ignore:colspan;'></td>
   </tr>
   <tr height="20" style='height:15.00pt;'>
    <td class="xl66" height="20" style='height:15.00pt;' x:str>mean</td>
    <td class="xl67" align="right" x:num>5000.5</td>
    <td class="xl68" align="right" x:num="15690940.">1.57E+07</td>
    <td class="xl67" align="right" x:num>650.5288</td>
    <td class="xl67" align="right" x:num>38.9218</td>
    <td class="xl67" align="right" x:num>5.0128</td>
    <td class="xl67" align="right" x:num="76485.889288000006">76485.88929</td>
    <td class="xl67" align="right" x:num>1.5302</td>
    <td class="xl67" align="right" x:num>0.7055</td>
    <td class="xl67" align="right" x:num>0.5151</td>
    <td class="xl67" align="right" x:num="100090.239881">100090.2399</td>
    <td class="xl67" align="right" x:num>0.2037</td>
    <td colspan="3" style='mso-ignore:colspan;'></td>
   </tr>
   <tr height="20" style='height:15.00pt;'>
    <td class="xl66" height="20" style='height:15.00pt;' x:str>std</td>
    <td class="xl67" align="right" x:num>2886.89568</td>
    <td class="xl68" align="right" x:num="71936.190000000002">7.19E+04</td>
    <td class="xl67" align="right" x:num>96.653299</td>
    <td class="xl67" align="right" x:num>10.487806</td>
    <td class="xl67" align="right" x:num>2.892174</td>
    <td class="xl67" align="right" x:num="62397.405202000002">62397.4052</td>
    <td class="xl67" align="right" x:num>0.581654</td>
    <td class="xl67" align="right" x:num>0.45584</td>
    <td class="xl67" align="right" x:num>0.499797</td>
    <td class="xl67" align="right" x:num="57510.492817999999">57510.49282</td>
    <td class="xl67" align="right" x:num>0.402769</td>
    <td colspan="3" style='mso-ignore:colspan;'></td>
   </tr>
   <tr height="20" style='height:15.00pt;'>
    <td class="xl66" height="20" style='height:15.00pt;' x:str>min</td>
    <td class="xl67" align="right" x:num>1</td>
    <td class="xl68" align="right" x:num="15565700.">1.56E+07</td>
    <td class="xl67" align="right" x:num>350</td>
    <td class="xl67" align="right" x:num>18</td>
    <td class="xl67" align="right" x:num>0</td>
    <td class="xl67" align="right" x:num>0</td>
    <td class="xl67" align="right" x:num>1</td>
    <td class="xl67" align="right" x:num>0</td>
    <td class="xl67" align="right" x:num>0</td>
    <td class="xl67" align="right" x:num>11.58</td>
    <td class="xl67" align="right" x:num>0</td>
    <td colspan="3" style='mso-ignore:colspan;'></td>
   </tr>
   <tr height="20" style='height:15.00pt;'>
    <td class="xl69" height="20" style='height:15.00pt;' x:num="0.25">25%</td>
    <td class="xl67" align="right" x:num>2500.75</td>
    <td class="xl68" align="right" x:num="15628530.">1.56E+07</td>
    <td class="xl67" align="right" x:num>584</td>
    <td class="xl67" align="right" x:num>32</td>
    <td class="xl67" align="right" x:num>3</td>
    <td class="xl67" align="right" x:num>0</td>
    <td class="xl67" align="right" x:num>1</td>
    <td class="xl67" align="right" x:num>0</td>
    <td class="xl67" align="right" x:num>0</td>
    <td class="xl67" align="right" x:num>51002.11</td>
    <td class="xl67" align="right" x:num>0</td>
    <td colspan="3" style='mso-ignore:colspan;'></td>
   </tr>
   <tr height="20" style='height:15.00pt;'>
    <td class="xl69" height="20" style='height:15.00pt;' x:num="0.5">50%</td>
    <td class="xl67" align="right" x:num>5000.5</td>
    <td class="xl68" align="right" x:num="15690740.">1.57E+07</td>
    <td class="xl67" align="right" x:num>652</td>
    <td class="xl67" align="right" x:num>37</td>
    <td class="xl67" align="right" x:num>5</td>
    <td class="xl67" align="right" x:num>97198.54</td>
    <td class="xl67" align="right" x:num>1</td>
    <td class="xl67" align="right" x:num>1</td>
    <td class="xl67" align="right" x:num>1</td>
    <td class="xl67" align="right" x:num>100193.915</td>
    <td class="xl67" align="right" x:num>0</td>
    <td colspan="3" style='mso-ignore:colspan;'></td>
   </tr>
   <tr height="20" style='height:15.00pt;'>
    <td class="xl69" height="20" style='height:15.00pt;' x:num="0.75">75%</td>
    <td class="xl67" align="right" x:num>7500.25</td>
    <td class="xl68" align="right" x:num="15753230.">1.58E+07</td>
    <td class="xl67" align="right" x:num>718</td>
    <td class="xl67" align="right" x:num>44</td>
    <td class="xl67" align="right" x:num>7</td>
    <td class="xl67" align="right" x:num>127644.24</td>
    <td class="xl67" align="right" x:num>2</td>
    <td class="xl67" align="right" x:num>1</td>
    <td class="xl67" align="right" x:num>1</td>
    <td class="xl67" align="right" x:num>149388.2475</td>
    <td class="xl67" align="right" x:num>0</td>
    <td colspan="3" style='mso-ignore:colspan;'></td>
   </tr>
   <tr height="20" style='height:15.00pt;'>
    <td class="xl66" height="20" style='height:15.00pt;' x:str>max</td>
    <td class="xl67" align="right" x:num>10000</td>
    <td class="xl68" align="right" x:num="15815690.">1.58E+07</td>
    <td class="xl67" align="right" x:num>850</td>
    <td class="xl67" align="right" x:num>92</td>
    <td class="xl67" align="right" x:num>10</td>
    <td class="xl67" align="right" x:num>250898.09</td>
    <td class="xl67" align="right" x:num>4</td>
    <td class="xl67" align="right" x:num>1</td>
    <td class="xl67" align="right" x:num>1</td>
    <td class="xl67" align="right" x:num>199992.48</td>
    <td class="xl67" align="right" x:num>1</td>
    <td colspan="3" style='mso-ignore:colspan;'></td>
   </tr>
   <tr height="20" style='height:15.00pt;'>
    <td height="20" style='height:15.00pt;' x:str>\n&quot;, &quot;</td>
    <td colspan="14" style='mso-ignore:colspan;'></td>
   </tr>
   <tr height="440" style='height:330.00pt;mso-height-source:userset;mso-height-alt:6600;'>
    <td class="xl65" height="440" colspan="15" style='height:330.00pt;border-right:none;border-bottom:none;' x:str>&quot; ], &quot;text/plain&quot;: [ &quot; RowNumber CustomerId CreditScore Age Tenure \\\n&quot;, &quot;count 10000.00000 1.000000e+04 10000.000000 10000.000000 10000.000000 \n&quot;, &quot;mean 5000.50000 1.569094e+07 650.528800 38.921800 5.012800 \n&quot;, &quot;std 2886.89568 7.193619e+04 96.653299 10.487806 2.892174 \n&quot;, &quot;min 1.00000 1.556570e+07 350.000000 18.000000 0.000000 \n&quot;, &quot;25% 2500.75000 1.562853e+07 584.000000 32.000000 3.000000 \n&quot;, &quot;50% 5000.50000 1.569074e+07 652.000000 37.000000 5.000000 \n&quot;, &quot;75% 7500.25000 1.575323e+07 718.000000 44.000000 7.000000 \n&quot;, &quot;max 10000.00000 1.581569e+07 850.000000 92.000000 10.000000 \n&quot;, &quot;\n&quot;, &quot; Balance NumOfProducts HasCrCard IsActiveMember \\\n&quot;, &quot;count 10000.000000 10000.000000 10000.00000 10000.000000 \n&quot;, &quot;mean 76485.889288 1.530200 0.70550 0.515100 \n&quot;, &quot;std 62397.405202 0.581654 0.45584 0.499797 \n&quot;, &quot;min 0.000000 1.000000 0.00000 0.000000 \n&quot;, &quot;25% 0.000000 1.000000 0.00000 0.000000 \n&quot;, &quot;50% 97198.540000 1.000000 1.00000 1.000000 \n&quot;, &quot;75% 127644.240000 2.000000 1.00000 1.000000 \n&quot;, &quot;max 250898.090000 4.000000 1.00000 1.000000 \n&quot;, &quot;\n&quot;, &quot; EstimatedSalary Exited \n&quot;, &quot;count 10000.000000 10000.000000 \n&quot;, &quot;mean 100090.239881 0.203700 \n&quot;, &quot;std 57510.492818 0.402769 \n&quot;, &quot;min 11.580000 0.000000 \n&quot;, &quot;25% 51002.110000 0.000000 \n&quot;, &quot;50% 100193.915000 0.000000 \n&quot;, &quot;75% 149388.247500 0.000000 \n&quot;, &quot;max 199992.480000 1.000000 &quot; ] }, &quot;execution_count&quot;: 14, &quot;metadata&quot;: {}, &quot;output_type&quot;: &quot;execute_result&quot; } ], &quot;source&quot;: [ &quot;churn.describe()&quot; ] }, { &quot;cell_type&quot;: &quot;markdown&quot;, &quot;id&quot;: &quot;e0817485&quot;, &quot;metadata&quot;: {}, &quot;source&quot;: [ &quot;# handling the missing values&quot; ] }, { &quot;cell_type&quot;: &quot;code&quot;, &quot;execution_count&quot;: 15, &quot;id&quot;: &quot;b596fd6b&quot;, &quot;metadata&quot;: {}, &quot;outputs&quot;: [ { &quot;data&quot;: { &quot;text/plain&quot;: [ &quot;650.5288&quot; ] }, &quot;execution_count&quot;: 15, &quot;metadata&quot;: {}, &quot;output_type&quot;: &quot;execute_result&quot; } ], &quot;source&quot;: [ &quot;churn['CreditScore'].mean()&quot; ] }, { &quot;cell_type&quot;: &quot;code&quot;, &quot;execution_count&quot;: 16, &quot;id&quot;: &quot;47c95c53&quot;, &quot;metadata&quot;: {}, &quot;outputs&quot;: [ { &quot;data&quot;: { &quot;text/plain&quot;: [ &quot;38.9218&quot; ] }, &quot;execution_count&quot;: 16, &quot;metadata&quot;: {}, &quot;output_type&quot;: &quot;execute_result&quot; } ], &quot;source&quot;: [ &quot;churn['Age'].mean()&quot; ] }, { &quot;cell_type&quot;: &quot;code&quot;, &quot;execution_count&quot;: 17, &quot;id&quot;: &quot;9eac48e2&quot;, &quot;metadata&quot;: {}, &quot;outputs&quot;: [ { &quot;data&quot;: { &quot;text/plain&quot;: [ &quot;5.0128&quot; ] }, &quot;execution_count&quot;: 17, &quot;metadata&quot;: {}, &quot;output_type&quot;: &quot;execute_result&quot; } ], &quot;source&quot;: [ &quot;churn['Tenure'].mean()&quot; ] }, { &quot;cell_type&quot;: &quot;code&quot;, &quot;execution_count&quot;: 18, &quot;id&quot;: &quot;482a1922&quot;, &quot;metadata&quot;: {}, &quot;outputs&quot;: [ { &quot;data&quot;: { &quot;text/plain&quot;: [ &quot;100090.2398809998&quot; ] }, &quot;execution_count&quot;: 18, &quot;metadata&quot;: {}, &quot;output_type&quot;: &quot;execute_result&quot; } ], &quot;source&quot;: [ &quot;churn['EstimatedSalary'].mean()&quot; ] }, { &quot;cell_type&quot;: &quot;code&quot;, &quot;execution_count&quot;: 19, &quot;id&quot;: &quot;5ca395c7&quot;, &quot;metadata&quot;: {}, &quot;outputs&quot;: [ { &quot;data&quot;: { &quot;text/plain&quot;: [ &quot;Index(['RowNumber', 'CustomerId', 'Surname', 'CreditScore', 'Geography',\n&quot;, &quot; 'Gender', 'Age', 'Tenure', 'Balance', 'NumOfProducts', 'HasCrCard',\n&quot;, &quot; 'IsActiveMember', 'EstimatedSalary', 'Exited'],\n&quot;, &quot; dtype='object')&quot; ] }, &quot;execution_count&quot;: 19, &quot;metadata&quot;: {}, &quot;output_type&quot;: &quot;execute_result&quot; } ], &quot;source&quot;: [ &quot;churn.columns&quot; ] }, { &quot;cell_type&quot;: &quot;code&quot;, &quot;execution_count&quot;: 20, &quot;id&quot;: &quot;860031b7&quot;, &quot;metadata&quot;: {}, &quot;outputs&quot;: [ { &quot;data&quot;: { &quot;text/plain&quot;: [ &quot;76485.88928799961&quot; ] }, &quot;execution_count&quot;: 20, &quot;metadata&quot;: {}, &quot;output_type&quot;: &quot;execute_result&quot; } ], &quot;source&quot;: [ &quot;churn['Balance'].mean()&quot; ] }, { &quot;cell_type&quot;: &quot;code&quot;, &quot;execution_count&quot;: 21, &quot;id&quot;: &quot;56c7b3b7&quot;, &quot;metadata&quot;: {}, &quot;outputs&quot;: [ { &quot;data&quot;: { &quot;text/plain&quot;: [ &quot;RowNumber 0\n&quot;, &quot;CustomerId 0\n&quot;, &quot;Surname 0\n&quot;, &quot;CreditScore 0\n&quot;, &quot;Geography 0\n&quot;, &quot;Gender 0\n&quot;, &quot;Age 0\n&quot;, &quot;Tenure 0\n&quot;, &quot;Balance 0\n&quot;, &quot;NumOfProducts 0\n&quot;, &quot;HasCrCard 0\n&quot;, &quot;IsActiveMember 0\n&quot;, &quot;EstimatedSalary 0\n&quot;, &quot;Exited 0\n&quot;, &quot;dtype: int64&quot; ] }, &quot;execution_count&quot;: 21, &quot;metadata&quot;: {}, &quot;output_type&quot;: &quot;execute_result&quot; } ], &quot;source&quot;: [ &quot;churn.isnull().sum()&quot; ] }, { &quot;cell_type&quot;: &quot;markdown&quot;, &quot;id&quot;: &quot;c99044bd&quot;, &quot;metadata&quot;: {}, &quot;source&quot;: [ &quot;# finding and replacing outliers&quot; ] }, { &quot;cell_type&quot;: &quot;code&quot;, &quot;execution_count&quot;: 22, &quot;id&quot;: &quot;3cb8cb96&quot;, &quot;metadata&quot;: {}, &quot;outputs&quot;: [], &quot;source&quot;: [ &quot;churn=churn.dropna(axis=0)&quot; ] }, { &quot;cell_type&quot;: &quot;code&quot;, &quot;execution_count&quot;: 23, &quot;id&quot;: &quot;d09a7cda&quot;, &quot;metadata&quot;: {}, &quot;outputs&quot;: [ { &quot;data&quot;: { &quot;text/plain&quot;: [ &quot;RowNumber 0\n&quot;, &quot;CustomerId 0\n&quot;, &quot;Surname 0\n&quot;, &quot;CreditScore 0\n&quot;, &quot;Geography 0\n&quot;, &quot;Gender 0\n&quot;, &quot;Age 0\n&quot;, &quot;Tenure 0\n&quot;, &quot;Balance 0\n&quot;, &quot;NumOfProducts 0\n&quot;, &quot;HasCrCard 0\n&quot;, &quot;IsActiveMember 0\n&quot;, &quot;EstimatedSalary 0\n&quot;, &quot;Exited 0\n&quot;, &quot;dtype: int64&quot; ] }, &quot;execution_count&quot;: 23, &quot;metadata&quot;: {}, &quot;output_type&quot;: &quot;execute_result&quot; } ], &quot;source&quot;: [ &quot;churn.isnull().sum()&quot; ] }, { &quot;cell_type&quot;: &quot;markdown&quot;, &quot;id&quot;: &quot;9d4df205&quot;, &quot;metadata&quot;: {}, &quot;source&quot;: [ &quot;# categorical columns check&quot; ] }, { &quot;cell_type&quot;: &quot;code&quot;, &quot;execution_count&quot;: 25, &quot;id&quot;: &quot;26b379cf&quot;, &quot;metadata&quot;: {}, &quot;outputs&quot;: [ { &quot;data&quot;: { &quot;text/html&quot;: [ &quot;</td>
   </tr>
   <tr height="20" style='height:15.00pt;'>
    <td height="20" colspan="2" style='height:15.00pt;mso-ignore:colspan;' x:str>\n&quot;, &quot;\n&quot;, &quot;</td>
    <td colspan="13" style='mso-ignore:colspan;'></td>
   </tr>
   <tr height="20" style='height:15.00pt;mso-height-source:userset;mso-height-alt:300;'>
    <td height="20" colspan="15" style='height:15.00pt;' x:str>\n&quot;, &quot; \n&quot;, &quot;</td>
   </tr>
   <tr height="20" style='height:15.00pt;mso-height-source:userset;mso-height-alt:300;'>
    <td height="20" colspan="15" style='height:15.00pt;' x:str>\n&quot;, &quot; \n&quot;, &quot; \n&quot;, &quot;</td>
   </tr>
   <tr height="20" style='height:15.00pt;mso-height-source:userset;mso-height-alt:300;'>
    <td height="20" colspan="15" style='height:15.00pt;' x:str>\n&quot;, &quot;</td>
   </tr>
   <tr height="20" style='height:15.00pt;mso-height-source:userset;mso-height-alt:300;'>
    <td height="20" colspan="15" style='height:15.00pt;' x:str>\n&quot;, &quot;</td>
   </tr>
   <tr height="20" style='height:15.00pt;mso-height-source:userset;mso-height-alt:300;'>
    <td height="20" colspan="15" style='height:15.00pt;' x:str>\n&quot;, &quot;</td>
   </tr>
   <tr height="20" style='height:15.00pt;mso-height-source:userset;mso-height-alt:300;'>
    <td height="20" colspan="15" style='height:15.00pt;' x:str>\n&quot;, &quot;</td>
   </tr>
   <tr height="20" style='height:15.00pt;mso-height-source:userset;mso-height-alt:300;'>
    <td height="20" colspan="15" style='height:15.00pt;' x:str>\n&quot;, &quot; \n&quot;, &quot;</td>
   </tr>
   <tr height="20" style='height:15.00pt;'>
    <td class="xl66" height="20" style='height:15.00pt;'></td>
    <td class="xl66" x:str>RowNumber</td>
    <td class="xl66" x:str>CustomerId</td>
    <td class="xl66" x:str>Surname</td>
    <td class="xl66" x:str>CreditScore</td>
    <td class="xl66" x:str>Geography</td>
    <td class="xl66" x:str>Gender</td>
    <td class="xl66" x:str>Age</td>
    <td class="xl66" x:str>Tenure</td>
    <td class="xl66" x:str>Balance</td>
    <td class="xl66" x:str>NumOfProducts</td>
    <td class="xl66" x:str>HasCrCard</td>
    <td class="xl66" x:str>IsActiveMember</td>
    <td class="xl66" x:str>EstimatedSalary</td>
    <td class="xl66" x:str>Exited</td>
   </tr>
   <tr height="20" style='height:15.00pt;'>
    <td class="xl66" height="20" style='height:15.00pt;' x:num>0</td>
    <td class="xl67" align="right" x:num>1</td>
    <td class="xl67" align="right" x:num>15634602</td>
    <td class="xl67" x:str>Hargrave</td>
    <td class="xl67" align="right" x:num>619</td>
    <td class="xl67" x:str>France</td>
    <td class="xl67" x:str>Female</td>
    <td class="xl67" align="right" x:num>42</td>
    <td class="xl67" align="right" x:num>2</td>
    <td class="xl67" align="right" x:num>0</td>
    <td class="xl67" align="right" x:num>1</td>
    <td class="xl67" align="right" x:num>1</td>
    <td class="xl67" align="right" x:num>1</td>
    <td class="xl67" align="right" x:num>101348.88</td>
    <td class="xl67" align="right" x:num>1</td>
   </tr>
   <tr height="20" style='height:15.00pt;'>
    <td class="xl66" height="20" style='height:15.00pt;' x:num>1</td>
    <td class="xl67" align="right" x:num>2</td>
    <td class="xl67" align="right" x:num>15647311</td>
    <td class="xl67" x:str>Hill</td>
    <td class="xl67" align="right" x:num>608</td>
    <td class="xl67" x:str>Spain</td>
    <td class="xl67" x:str>Female</td>
    <td class="xl67" align="right" x:num>41</td>
    <td class="xl67" align="right" x:num>1</td>
    <td class="xl67" align="right" x:num>83807.86</td>
    <td class="xl67" align="right" x:num>1</td>
    <td class="xl67" align="right" x:num>0</td>
    <td class="xl67" align="right" x:num>1</td>
    <td class="xl67" align="right" x:num>112542.58</td>
    <td class="xl67" align="right" x:num>0</td>
   </tr>
   <tr height="20" style='height:15.00pt;'>
    <td class="xl66" height="20" style='height:15.00pt;' x:num>2</td>
    <td class="xl67" align="right" x:num>3</td>
    <td class="xl67" align="right" x:num>15619304</td>
    <td class="xl67" x:str>Onio</td>
    <td class="xl67" align="right" x:num>502</td>
    <td class="xl67" x:str>France</td>
    <td class="xl67" x:str>Female</td>
    <td class="xl67" align="right" x:num>42</td>
    <td class="xl67" align="right" x:num>8</td>
    <td class="xl67" align="right" x:num>159660.8</td>
    <td class="xl67" align="right" x:num>3</td>
    <td class="xl67" align="right" x:num>1</td>
    <td class="xl67" align="right" x:num>0</td>
    <td class="xl67" align="right" x:num>113931.57</td>
    <td class="xl67" align="right" x:num>1</td>
   </tr>
   <tr height="20" style='height:15.00pt;'>
    <td class="xl66" height="20" style='height:15.00pt;' x:num>3</td>
    <td class="xl67" align="right" x:num>4</td>
    <td class="xl67" align="right" x:num>15701354</td>
    <td class="xl67" x:str>Boni</td>
    <td class="xl67" align="right" x:num>699</td>
    <td class="xl67" x:str>France</td>
    <td class="xl67" x:str>Female</td>
    <td class="xl67" align="right" x:num>39</td>
    <td class="xl67" align="right" x:num>1</td>
    <td class="xl67" align="right" x:num>0</td>
    <td class="xl67" align="right" x:num>2</td>
    <td class="xl67" align="right" x:num>0</td>
    <td class="xl67" align="right" x:num>0</td>
    <td class="xl67" align="right" x:num>93826.63</td>
    <td class="xl67" align="right" x:num>0</td>
   </tr>
   <tr height="20" style='height:15.00pt;'>
    <td class="xl66" height="20" style='height:15.00pt;' x:num>4</td>
    <td class="xl67" align="right" x:num>5</td>
    <td class="xl67" align="right" x:num>15737888</td>
    <td class="xl67" x:str>Mitchell</td>
    <td class="xl67" align="right" x:num>850</td>
    <td class="xl67" x:str>Spain</td>
    <td class="xl67" x:str>Female</td>
    <td class="xl67" align="right" x:num>43</td>
    <td class="xl67" align="right" x:num>2</td>
    <td class="xl67" align="right" x:num>125510.82</td>
    <td class="xl67" align="right" x:num>1</td>
    <td class="xl67" align="right" x:num>1</td>
    <td class="xl67" align="right" x:num>1</td>
    <td class="xl67" align="right" x:num>79084.1</td>
    <td class="xl67" align="right" x:num>0</td>
   </tr>
   <tr height="20" style='height:15.00pt;'>
    <td height="20" style='height:15.00pt;' x:str>\n&quot;, &quot;</td>
    <td colspan="14" style='mso-ignore:colspan;'></td>
   </tr>
   <tr height="120" style='height:90.00pt;mso-height-source:userset;mso-height-alt:1800;'>
    <td class="xl65" height="120" colspan="15" style='height:90.00pt;border-right:none;border-bottom:none;' x:str>&quot; ], &quot;text/plain&quot;: [ &quot; RowNumber CustomerId Surname CreditScore Geography Gender Age \\\n&quot;, &quot;0 1 15634602 Hargrave 619 France Female 42 \n&quot;, &quot;1 2 15647311 Hill 608 Spain Female 41 \n&quot;, &quot;2 3 15619304 Onio 502 France Female 42 \n&quot;, &quot;3 4 15701354 Boni 699 France Female 39 \n&quot;, &quot;4 5 15737888 Mitchell 850 Spain Female 43 \n&quot;, &quot;\n&quot;, &quot; Tenure Balance NumOfProducts HasCrCard IsActiveMember \\\n&quot;, &quot;0 2 0.00 1 1 1 \n&quot;, &quot;1 1 83807.86 1 0 1 \n&quot;, &quot;2 8 159660.80 3 1 0 \n&quot;, &quot;3 1 0.00 2 0 0 \n&quot;, &quot;4 2 125510.82 1 1 1 \n&quot;, &quot;\n&quot;, &quot; EstimatedSalary Exited \n&quot;, &quot;0 101348.88 1 \n&quot;, &quot;1 112542.58 0 \n&quot;, &quot;2 113931.57 1 \n&quot;, &quot;3 93826.63 0 \n&quot;, &quot;4 79084.10 0 &quot; ] }, &quot;execution_count&quot;: 25, &quot;metadata&quot;: {}, &quot;output_type&quot;: &quot;execute_result&quot; } ], &quot;source&quot;: [ &quot;churn.head()&quot; ] }, { &quot;cell_type&quot;: &quot;code&quot;, &quot;execution_count&quot;: 27, &quot;id&quot;: &quot;b6ad4675&quot;, &quot;metadata&quot;: {}, &quot;outputs&quot;: [], &quot;source&quot;: [ &quot;churn_numeric=churn[['CustomerId','CreditScore','Age','Tenure','Balance','NumOfProducts','HasCrCard','IsActiveMember','EstimatedSalary','Exited']]\n&quot;, &quot;churn_categorical=churn[['Surname','Geography','Gender']]&quot; ] }, { &quot;cell_type&quot;: &quot;code&quot;, &quot;execution_count&quot;: 28, &quot;id&quot;: &quot;82005c07&quot;, &quot;metadata&quot;: {}, &quot;outputs&quot;: [ { &quot;data&quot;: { &quot;text/html&quot;: [ &quot;</td>
   </tr>
   <tr height="20" style='height:15.00pt;'>
    <td height="20" colspan="2" style='height:15.00pt;mso-ignore:colspan;' x:str>\n&quot;, &quot;\n&quot;, &quot;</td>
    <td colspan="13" style='mso-ignore:colspan;'></td>
   </tr>
   <tr height="20" style='height:15.00pt;mso-height-source:userset;mso-height-alt:300;'>
    <td height="20" colspan="11" style='height:15.00pt;' x:str>\n&quot;, &quot; \n&quot;, &quot;</td>
    <td colspan="4" style='mso-ignore:colspan;'></td>
   </tr>
   <tr height="20" style='height:15.00pt;mso-height-source:userset;mso-height-alt:300;'>
    <td height="20" colspan="11" style='height:15.00pt;' x:str>\n&quot;, &quot; \n&quot;, &quot; \n&quot;, &quot;</td>
    <td colspan="4" style='mso-ignore:colspan;'></td>
   </tr>
   <tr height="20" style='height:15.00pt;mso-height-source:userset;mso-height-alt:300;'>
    <td height="20" colspan="11" style='height:15.00pt;' x:str>\n&quot;, &quot;</td>
    <td colspan="4" style='mso-ignore:colspan;'></td>
   </tr>
   <tr height="20" style='height:15.00pt;mso-height-source:userset;mso-height-alt:300;'>
    <td height="20" colspan="11" style='height:15.00pt;' x:str>\n&quot;, &quot;</td>
    <td colspan="4" style='mso-ignore:colspan;'></td>
   </tr>
   <tr height="20" style='height:15.00pt;mso-height-source:userset;mso-height-alt:300;'>
    <td height="20" colspan="11" style='height:15.00pt;' x:str>\n&quot;, &quot;</td>
    <td colspan="4" style='mso-ignore:colspan;'></td>
   </tr>
   <tr height="20" style='height:15.00pt;mso-height-source:userset;mso-height-alt:300;'>
    <td height="20" colspan="11" style='height:15.00pt;' x:str>\n&quot;, &quot;</td>
    <td colspan="4" style='mso-ignore:colspan;'></td>
   </tr>
   <tr height="20" style='height:15.00pt;mso-height-source:userset;mso-height-alt:300;'>
    <td height="20" colspan="11" style='height:15.00pt;' x:str>\n&quot;, &quot; \n&quot;, &quot;</td>
    <td colspan="4" style='mso-ignore:colspan;'></td>
   </tr>
   <tr height="20" style='height:15.00pt;'>
    <td class="xl66" height="20" style='height:15.00pt;'></td>
    <td class="xl66" x:str>CustomerId</td>
    <td class="xl66" x:str>CreditScore</td>
    <td class="xl66" x:str>Age</td>
    <td class="xl66" x:str>Tenure</td>
    <td class="xl66" x:str>Balance</td>
    <td class="xl66" x:str>NumOfProducts</td>
    <td class="xl66" x:str>HasCrCard</td>
    <td class="xl66" x:str>IsActiveMember</td>
    <td class="xl66" x:str>EstimatedSalary</td>
    <td class="xl66" x:str>Exited</td>
    <td colspan="4" style='mso-ignore:colspan;'></td>
   </tr>
   <tr height="20" style='height:15.00pt;'>
    <td class="xl66" height="20" style='height:15.00pt;' x:num>0</td>
    <td class="xl67" align="right" x:num>15634602</td>
    <td class="xl67" align="right" x:num>619</td>
    <td class="xl67" align="right" x:num>42</td>
    <td class="xl67" align="right" x:num>2</td>
    <td class="xl67" align="right" x:num>0</td>
    <td class="xl67" align="right" x:num>1</td>
    <td class="xl67" align="right" x:num>1</td>
    <td class="xl67" align="right" x:num>1</td>
    <td class="xl67" align="right" x:num>101348.88</td>
    <td class="xl67" align="right" x:num>1</td>
    <td colspan="4" style='mso-ignore:colspan;'></td>
   </tr>
   <tr height="20" style='height:15.00pt;'>
    <td class="xl66" height="20" style='height:15.00pt;' x:num>1</td>
    <td class="xl67" align="right" x:num>15647311</td>
    <td class="xl67" align="right" x:num>608</td>
    <td class="xl67" align="right" x:num>41</td>
    <td class="xl67" align="right" x:num>1</td>
    <td class="xl67" align="right" x:num>83807.86</td>
    <td class="xl67" align="right" x:num>1</td>
    <td class="xl67" align="right" x:num>0</td>
    <td class="xl67" align="right" x:num>1</td>
    <td class="xl67" align="right" x:num>112542.58</td>
    <td class="xl67" align="right" x:num>0</td>
    <td colspan="4" style='mso-ignore:colspan;'></td>
   </tr>
   <tr height="20" style='height:15.00pt;'>
    <td class="xl66" height="20" style='height:15.00pt;' x:num>2</td>
    <td class="xl67" align="right" x:num>15619304</td>
    <td class="xl67" align="right" x:num>502</td>
    <td class="xl67" align="right" x:num>42</td>
    <td class="xl67" align="right" x:num>8</td>
    <td class="xl67" align="right" x:num>159660.8</td>
    <td class="xl67" align="right" x:num>3</td>
    <td class="xl67" align="right" x:num>1</td>
    <td class="xl67" align="right" x:num>0</td>
    <td class="xl67" align="right" x:num>113931.57</td>
    <td class="xl67" align="right" x:num>1</td>
    <td colspan="4" style='mso-ignore:colspan;'></td>
   </tr>
   <tr height="20" style='height:15.00pt;'>
    <td class="xl66" height="20" style='height:15.00pt;' x:num>3</td>
    <td class="xl67" align="right" x:num>15701354</td>
    <td class="xl67" align="right" x:num>699</td>
    <td class="xl67" align="right" x:num>39</td>
    <td class="xl67" align="right" x:num>1</td>
    <td class="xl67" align="right" x:num>0</td>
    <td class="xl67" align="right" x:num>2</td>
    <td class="xl67" align="right" x:num>0</td>
    <td class="xl67" align="right" x:num>0</td>
    <td class="xl67" align="right" x:num>93826.63</td>
    <td class="xl67" align="right" x:num>0</td>
    <td colspan="4" style='mso-ignore:colspan;'></td>
   </tr>
   <tr height="20" style='height:15.00pt;'>
    <td class="xl66" height="20" style='height:15.00pt;' x:num>4</td>
    <td class="xl67" align="right" x:num>15737888</td>
    <td class="xl67" align="right" x:num>850</td>
    <td class="xl67" align="right" x:num>43</td>
    <td class="xl67" align="right" x:num>2</td>
    <td class="xl67" align="right" x:num>125510.82</td>
    <td class="xl67" align="right" x:num>1</td>
    <td class="xl67" align="right" x:num>1</td>
    <td class="xl67" align="right" x:num>1</td>
    <td class="xl67" align="right" x:num>79084.1</td>
    <td class="xl67" align="right" x:num>0</td>
    <td colspan="4" style='mso-ignore:colspan;'></td>
   </tr>
   <tr height="20" style='height:15.00pt;'>
    <td height="20" style='height:15.00pt;' x:str>\n&quot;, &quot;</td>
    <td colspan="14" style='mso-ignore:colspan;'></td>
   </tr>
   <tr height="60" style='height:45.00pt;mso-height-source:userset;mso-height-alt:900;'>
    <td class="xl65" height="60" colspan="15" style='height:45.00pt;border-right:none;border-bottom:none;' x:str>&quot; ], &quot;text/plain&quot;: [ &quot; CustomerId CreditScore Age Tenure Balance NumOfProducts HasCrCard \\\n&quot;, &quot;0 15634602 619 42 2 0.00 1 1 \n&quot;, &quot;1 15647311 608 41 1 83807.86 1 0 \n&quot;, &quot;2 15619304 502 42 8 159660.80 3 1 \n&quot;, &quot;3 15701354 699 39 1 0.00 2 0 \n&quot;, &quot;4 15737888 850 43 2 125510.82 1 1 \n&quot;, &quot;\n&quot;, &quot; IsActiveMember EstimatedSalary Exited \n&quot;, &quot;0 1 101348.88 1 \n&quot;, &quot;1 1 112542.58 0 \n&quot;, &quot;2 0 113931.57 1 \n&quot;, &quot;3 0 93826.63 0 \n&quot;, &quot;4 1 79084.10 0 &quot; ] }, &quot;execution_count&quot;: 28, &quot;metadata&quot;: {}, &quot;output_type&quot;: &quot;execute_result&quot; } ], &quot;source&quot;: [ &quot;churn_numeric.head()\n&quot; ] }, { &quot;cell_type&quot;: &quot;code&quot;, &quot;execution_count&quot;: 29, &quot;id&quot;: &quot;2f7996f7&quot;, &quot;metadata&quot;: {}, &quot;outputs&quot;: [ { &quot;data&quot;: { &quot;text/html&quot;: [ &quot;</td>
   </tr>
   <tr height="20" style='height:15.00pt;'>
    <td height="20" colspan="2" style='height:15.00pt;mso-ignore:colspan;' x:str>\n&quot;, &quot;\n&quot;, &quot;</td>
    <td colspan="13" style='mso-ignore:colspan;'></td>
   </tr>
   <tr height="20" style='height:15.00pt;mso-height-source:userset;mso-height-alt:300;'>
    <td height="20" colspan="4" style='height:15.00pt;' x:str>\n&quot;, &quot; \n&quot;, &quot;</td>
    <td colspan="11" style='mso-ignore:colspan;'></td>
   </tr>
   <tr height="20" style='height:15.00pt;mso-height-source:userset;mso-height-alt:300;'>
    <td height="20" colspan="4" style='height:15.00pt;' x:str>\n&quot;, &quot; \n&quot;, &quot; \n&quot;, &quot;</td>
    <td colspan="11" style='mso-ignore:colspan;'></td>
   </tr>
   <tr height="20" style='height:15.00pt;mso-height-source:userset;mso-height-alt:300;'>
    <td height="20" colspan="4" style='height:15.00pt;' x:str>\n&quot;, &quot;</td>
    <td colspan="11" style='mso-ignore:colspan;'></td>
   </tr>
   <tr height="20" style='height:15.00pt;mso-height-source:userset;mso-height-alt:300;'>
    <td height="20" colspan="4" style='height:15.00pt;' x:str>\n&quot;, &quot;</td>
    <td colspan="11" style='mso-ignore:colspan;'></td>
   </tr>
   <tr height="20" style='height:15.00pt;mso-height-source:userset;mso-height-alt:300;'>
    <td height="20" colspan="4" style='height:15.00pt;' x:str>\n&quot;, &quot;</td>
    <td colspan="11" style='mso-ignore:colspan;'></td>
   </tr>
   <tr height="20" style='height:15.00pt;mso-height-source:userset;mso-height-alt:300;'>
    <td height="20" colspan="4" style='height:15.00pt;' x:str>\n&quot;, &quot;</td>
    <td colspan="11" style='mso-ignore:colspan;'></td>
   </tr>
   <tr height="20" style='height:15.00pt;mso-height-source:userset;mso-height-alt:300;'>
    <td height="20" colspan="4" style='height:15.00pt;' x:str>\n&quot;, &quot; \n&quot;, &quot;</td>
    <td colspan="11" style='mso-ignore:colspan;'></td>
   </tr>
   <tr height="20" style='height:15.00pt;'>
    <td class="xl66" height="20" style='height:15.00pt;'></td>
    <td class="xl66" x:str>Surname</td>
    <td class="xl66" x:str>Geography</td>
    <td class="xl66" x:str>Gender</td>
    <td colspan="11" style='mso-ignore:colspan;'></td>
   </tr>
   <tr height="20" style='height:15.00pt;'>
    <td class="xl66" height="20" style='height:15.00pt;' x:num>0</td>
    <td class="xl67" x:str>Hargrave</td>
    <td class="xl67" x:str>France</td>
    <td class="xl67" x:str>Female</td>
    <td colspan="11" style='mso-ignore:colspan;'></td>
   </tr>
   <tr height="20" style='height:15.00pt;'>
    <td class="xl66" height="20" style='height:15.00pt;' x:num>1</td>
    <td class="xl67" x:str>Hill</td>
    <td class="xl67" x:str>Spain</td>
    <td class="xl67" x:str>Female</td>
    <td colspan="11" style='mso-ignore:colspan;'></td>
   </tr>
   <tr height="20" style='height:15.00pt;'>
    <td class="xl66" height="20" style='height:15.00pt;' x:num>2</td>
    <td class="xl67" x:str>Onio</td>
    <td class="xl67" x:str>France</td>
    <td class="xl67" x:str>Female</td>
    <td colspan="11" style='mso-ignore:colspan;'></td>
   </tr>
   <tr height="20" style='height:15.00pt;'>
    <td class="xl66" height="20" style='height:15.00pt;' x:num>3</td>
    <td class="xl67" x:str>Boni</td>
    <td class="xl67" x:str>France</td>
    <td class="xl67" x:str>Female</td>
    <td colspan="11" style='mso-ignore:colspan;'></td>
   </tr>
   <tr height="20" style='height:15.00pt;'>
    <td class="xl66" height="20" style='height:15.00pt;' x:num>4</td>
    <td class="xl67" x:str>Mitchell</td>
    <td class="xl67" x:str>Spain</td>
    <td class="xl67" x:str>Female</td>
    <td colspan="11" style='mso-ignore:colspan;'></td>
   </tr>
   <tr height="20" style='height:15.00pt;'>
    <td height="20" style='height:15.00pt;' x:str>\n&quot;, &quot;</td>
    <td colspan="14" style='mso-ignore:colspan;'></td>
   </tr>
   <tr height="440" style='height:330.00pt;mso-height-source:userset;mso-height-alt:6600;'>
    <td class="xl65" height="440" colspan="15" style='height:330.00pt;border-right:none;border-bottom:none;' x:str>&quot; ], &quot;text/plain&quot;: [ &quot; Surname Geography Gender\n&quot;, &quot;0 Hargrave France Female\n&quot;, &quot;1 Hill Spain Female\n&quot;, &quot;2 Onio France Female\n&quot;, &quot;3 Boni France Female\n&quot;, &quot;4 Mitchell Spain Female&quot; ] }, &quot;execution_count&quot;: 29, &quot;metadata&quot;: {}, &quot;output_type&quot;: &quot;execute_result&quot; } ], &quot;source&quot;: [ &quot;churn_categorical.head()&quot; ] }, { &quot;cell_type&quot;: &quot;code&quot;, &quot;execution_count&quot;: 33, &quot;id&quot;: &quot;a4451660&quot;, &quot;metadata&quot;: {}, &quot;outputs&quot;: [ { &quot;name&quot;: &quot;stdout&quot;, &quot;output_type&quot;: &quot;stream&quot;, &quot;text&quot;: [ &quot;['France' 'Spain' 'Germany']\n&quot;, &quot;['Female' 'Male']\n&quot; ] } ], &quot;source&quot;: [ &quot;print(churn['Geography'].unique())\n&quot;, &quot;print(churn['Gender'].unique())&quot; ] }, { &quot;cell_type&quot;: &quot;code&quot;, &quot;execution_count&quot;: 40, &quot;id&quot;: &quot;41ecdac4&quot;, &quot;metadata&quot;: {}, &quot;outputs&quot;: [], &quot;source&quot;: [ &quot;from sklearn.preprocessing import LabelEncoder\n&quot;, &quot;Gen=LabelEncoder()&quot; ] }, { &quot;cell_type&quot;: &quot;code&quot;, &quot;execution_count&quot;: 41, &quot;id&quot;: &quot;d786131e&quot;, &quot;metadata&quot;: {}, &quot;outputs&quot;: [ { &quot;data&quot;: { &quot;text/plain&quot;: [ &quot;LabelEncoder()&quot; ] }, &quot;execution_count&quot;: 41, &quot;metadata&quot;: {}, &quot;output_type&quot;: &quot;execute_result&quot; } ], &quot;source&quot;: [ &quot;Gen.fit(churn_categorical['Gender'])\n&quot;, &quot;LabelEncoder()\n&quot; ] }, { &quot;cell_type&quot;: &quot;code&quot;, &quot;execution_count&quot;: 42, &quot;id&quot;: &quot;a6aaabed&quot;, &quot;metadata&quot;: {}, &quot;outputs&quot;: [ { &quot;name&quot;: &quot;stdout&quot;, &quot;output_type&quot;: &quot;stream&quot;, &quot;text&quot;: [ &quot;Before Encoding: ['Male', 'Female', 'Male', 'Male', 'Female', 'Male', 'Male', 'Female', 'Male', 'Female']\n&quot;, &quot;After Encoding [1 0 1 1 0 1 1 0 1 0]\n&quot;, &quot;The inverse from the encoding result: ['Male' 'Female' 'Male' 'Male' 'Female' 'Male' 'Male' 'Female' 'Male'\n&quot;, &quot; 'Female']\n&quot; ] } ], &quot;source&quot;: [ &quot;Genvalues=Gen.transform(churn_categorical['Gender'])\n&quot;, &quot;print(\&quot;Before Encoding:\&quot;,list(churn_categorical['Gender'][-10:]))\n&quot;, &quot;print(\&quot;After Encoding\&quot;,Genvalues[-10:])\n&quot;, &quot;print(\&quot;The inverse from the encoding result:\&quot;,Gen.inverse_transform(Genvalues[-10:]))&quot; ] }, { &quot;cell_type&quot;: &quot;code&quot;, &quot;execution_count&quot;: 48, &quot;id&quot;: &quot;6bce0673&quot;, &quot;metadata&quot;: {}, &quot;outputs&quot;: [ { &quot;name&quot;: &quot;stdout&quot;, &quot;output_type&quot;: &quot;stream&quot;, &quot;text&quot;: [ &quot;0 France\n&quot;, &quot;1 Spain\n&quot;, &quot;2 France\n&quot;, &quot;3 France\n&quot;, &quot;4 Spain\n&quot;, &quot;5 Spain\n&quot;, &quot;6 France\n&quot;, &quot;7 Germany\n&quot;, &quot;8 France\n&quot;, &quot;9 France\n&quot;, &quot;Name: Geography, dtype: object\n&quot;, &quot;\n&quot;, &quot;[[1. 0. 0.]\n&quot;, &quot; [0. 0. 1.]\n&quot;, &quot; [1. 0. 0.]\n&quot;, &quot; [1. 0. 0.]\n&quot;, &quot; [0. 0. 1.]\n&quot;, &quot; [0. 0. 1.]\n&quot;, &quot; [1. 0. 0.]\n&quot;, &quot; [0. 1. 0.]\n&quot;, &quot; [1. 0. 0.]\n&quot;, &quot; [1. 0. 0.]]\n&quot;, &quot;\n&quot;, &quot;[['France']\n&quot;, &quot; ['Spain']\n&quot;, &quot; ['France']\n&quot;, &quot; ['France']\n&quot;, &quot; ['Spain']\n&quot;, &quot; ['Spain']\n&quot;, &quot; ['France']\n&quot;, &quot; ['Germany']\n&quot;, &quot; ['France']\n&quot;, &quot; ['France']]\n&quot; ] } ], &quot;source&quot;: [ &quot;from sklearn.preprocessing import OneHotEncoder\n&quot;, &quot;import numpy as np\n&quot;, &quot;Geo=OneHotEncoder()\n&quot;, &quot;Geo_Reshaped=np.array(churn_categorical['Geography']).reshape(-1,1)\n&quot;, &quot;Geo_Values=Geo.fit_transform(Geo_Reshaped)\n&quot;, &quot;print(churn_categorical['Geography'][:10])\n&quot;, &quot;print()\n&quot;, &quot;print(Geo_Values.toarray()[:10])\n&quot;, &quot;print()\n&quot;, &quot;print(Geo.inverse_transform(Geo_Values)[:10])\n&quot; ] }, { &quot;cell_type&quot;: &quot;markdown&quot;, &quot;id&quot;: &quot;44f665b1&quot;, &quot;metadata&quot;: {}, &quot;source&quot;: [ &quot;# dependant and independant variables&quot; ] }, { &quot;cell_type&quot;: &quot;code&quot;, &quot;execution_count&quot;: 65, &quot;id&quot;: &quot;d507a884&quot;, &quot;metadata&quot;: {}, &quot;outputs&quot;: [ { &quot;name&quot;: &quot;stdout&quot;, &quot;output_type&quot;: &quot;stream&quot;, &quot;text&quot;: [ &quot;[[1 15634602 'Hargrave' ... 1 1 101348.88]\n&quot;, &quot; [2 15647311 'Hill' ... 0 1 112542.58]\n&quot;, &quot; [3 15619304 'Onio' ... 1 0 113931.57]\n&quot;, &quot; ...\n&quot;, &quot; [9998 15584532 'Liu' ... 0 1 42085.58]\n&quot;, &quot; [9999 15682355 'Sabbatini' ... 1 0 92888.52]\n&quot;, &quot; [10000 15628319 'Walker' ... 1 0 38190.78]]\n&quot; ] } ], &quot;source&quot;: [ &quot;x=churn.iloc[:,:-1].values\n&quot;, &quot;print(x)&quot; ] }, { &quot;cell_type&quot;: &quot;code&quot;, &quot;execution_count&quot;: 66, &quot;id&quot;: &quot;bdd362cf&quot;, &quot;metadata&quot;: {}, &quot;outputs&quot;: [ { &quot;name&quot;: &quot;stdout&quot;, &quot;output_type&quot;: &quot;stream&quot;, &quot;text&quot;: [ &quot;[1 0 1 ... 1 1 0]\n&quot; ] } ], &quot;source&quot;: [ &quot;y=churn.iloc[:,-1].values\n&quot;, &quot;print(y)&quot; ] }, { &quot;cell_type&quot;: &quot;markdown&quot;, &quot;id&quot;: &quot;31842d1b&quot;, &quot;metadata&quot;: {}, &quot;source&quot;: [ &quot;# training and testing split&quot; ] }, { &quot;cell_type&quot;: &quot;code&quot;, &quot;execution_count&quot;: 67, &quot;id&quot;: &quot;2e380444&quot;, &quot;metadata&quot;: {}, &quot;outputs&quot;: [ { &quot;name&quot;: &quot;stdout&quot;, &quot;output_type&quot;: &quot;stream&quot;, &quot;text&quot;: [ &quot;No.of training examples:8000\n&quot;, &quot;No.of testing examples:2000\n&quot; ] } ], &quot;source&quot;: [ &quot;training_data=churn.sample(frac=0.8,random_state=25)\n&quot;, &quot;testing_data=churn.drop(training_data.index)\n&quot;, &quot;print(f\&quot;No.of training examples:{training_data.shape[0]}\&quot;)\n&quot;, &quot;print(f\&quot;No.of testing examples:{testing_data.shape[0]}\&quot;)&quot; ] }, { &quot;cell_type&quot;: &quot;code&quot;, &quot;execution_count&quot;: null, &quot;id&quot;: &quot;f5e9320a&quot;, &quot;metadata&quot;: {}, &quot;outputs&quot;: [], &quot;source&quot;: [] } ], &quot;metadata&quot;: { &quot;kernelspec&quot;: { &quot;display_name&quot;: &quot;Python 3&quot;, &quot;language&quot;: &quot;python&quot;, &quot;name&quot;: &quot;python3&quot; }, &quot;language_info&quot;: { &quot;codemirror_mode&quot;: { &quot;name&quot;: &quot;ipython&quot;, &quot;version&quot;: 3 }, &quot;file_extension&quot;: &quot;.py&quot;, &quot;mimetype&quot;: &quot;text/x-python&quot;, &quot;name&quot;: &quot;python&quot;, &quot;nbconvert_exporter&quot;: &quot;python&quot;, &quot;pygments_lexer&quot;: &quot;ipython3&quot;, &quot;version&quot;: &quot;3.8.8&quot; } }, &quot;nbformat&quot;: 4, &quot;nbformat_minor&quot;: 5 }</td>
   </tr>
   <![if supportMisalignedColumns]>
    <tr width="0" style='display:none;'>
     <td width="46" style='width:35;'></td>
     <td width="90" style='width:68;'></td>
     <td width="83" style='width:62;'></td>
     <td width="79" style='width:59;'></td>
     <td width="113" style='width:85;'></td>
     <td width="118" style='width:89;'></td>
     <td width="113" style='width:85;'></td>
     <td width="74" style='width:56;'></td>
     <td width="118" style='width:89;'></td>
     <td width="113" style='width:85;'></td>
     <td width="50" style='width:38;'></td>
    </tr>
   <![endif]>
  </table>
 </body>
</html>
